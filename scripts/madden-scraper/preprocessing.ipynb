{
 "cells": [
  {
   "cell_type": "code",
   "execution_count": 1,
   "metadata": {},
   "outputs": [
    {
     "name": "stdout",
     "output_type": "stream",
     "text": [
      "No position column found in madden_21_nfc_pro_bowl__madden_nfl_21_.xlsx\n"
     ]
    },
    {
     "name": "stderr",
     "output_type": "stream",
     "text": [
      "/Users/ryanbergmac/anaconda3/lib/python3.11/site-packages/openpyxl/worksheet/_read_only.py:85: UserWarning: Unknown extension is not supported and will be removed\n",
      "  for idx, row in parser.parse():\n"
     ]
    },
    {
     "name": "stdout",
     "output_type": "stream",
     "text": [
      "No position column found in madden_19_madden_elites__madden_nfl_19_.xlsx\n"
     ]
    },
    {
     "name": "stderr",
     "output_type": "stream",
     "text": [
      "/Users/ryanbergmac/anaconda3/lib/python3.11/site-packages/openpyxl/worksheet/_read_only.py:85: UserWarning: Unknown extension is not supported and will be removed\n",
      "  for idx, row in parser.parse():\n"
     ]
    },
    {
     "name": "stdout",
     "output_type": "stream",
     "text": [
      "No position column found in madden_20_nfc_pro_bowl__madden_nfl_20_.xlsx\n",
      "No position column found in madden_15_pro_bowl_irvin.xlsx\n"
     ]
    },
    {
     "name": "stderr",
     "output_type": "stream",
     "text": [
      "/Users/ryanbergmac/anaconda3/lib/python3.11/site-packages/openpyxl/worksheet/_read_only.py:85: UserWarning: Unknown extension is not supported and will be removed\n",
      "  for idx, row in parser.parse():\n",
      "/Users/ryanbergmac/anaconda3/lib/python3.11/site-packages/openpyxl/worksheet/_read_only.py:85: UserWarning: Unknown extension is not supported and will be removed\n",
      "  for idx, row in parser.parse():\n"
     ]
    },
    {
     "name": "stdout",
     "output_type": "stream",
     "text": [
      "No position column found in madden_17_afc_pro_bowl__madden_nfl_17_.xlsx\n",
      "No position column found in madden_19_nfc_pro_bowl__madden_nfl_19_.xlsx\n"
     ]
    },
    {
     "name": "stderr",
     "output_type": "stream",
     "text": [
      "/Users/ryanbergmac/anaconda3/lib/python3.11/site-packages/openpyxl/worksheet/_read_only.py:85: UserWarning: Unknown extension is not supported and will be removed\n",
      "  for idx, row in parser.parse():\n",
      "/Users/ryanbergmac/anaconda3/lib/python3.11/site-packages/openpyxl/worksheet/_read_only.py:85: UserWarning: Unknown extension is not supported and will be removed\n",
      "  for idx, row in parser.parse():\n",
      "/Users/ryanbergmac/anaconda3/lib/python3.11/site-packages/openpyxl/worksheet/_read_only.py:85: UserWarning: Unknown extension is not supported and will be removed\n",
      "  for idx, row in parser.parse():\n",
      "/Users/ryanbergmac/anaconda3/lib/python3.11/site-packages/openpyxl/worksheet/_read_only.py:85: UserWarning: Unknown extension is not supported and will be removed\n",
      "  for idx, row in parser.parse():\n",
      "/Users/ryanbergmac/anaconda3/lib/python3.11/site-packages/openpyxl/worksheet/_read_only.py:85: UserWarning: Unknown extension is not supported and will be removed\n",
      "  for idx, row in parser.parse():\n",
      "/Users/ryanbergmac/anaconda3/lib/python3.11/site-packages/openpyxl/worksheet/_read_only.py:85: UserWarning: Unknown extension is not supported and will be removed\n",
      "  for idx, row in parser.parse():\n",
      "/Users/ryanbergmac/anaconda3/lib/python3.11/site-packages/openpyxl/worksheet/_read_only.py:85: UserWarning: Unknown extension is not supported and will be removed\n",
      "  for idx, row in parser.parse():\n",
      "/Users/ryanbergmac/anaconda3/lib/python3.11/site-packages/openpyxl/worksheet/_read_only.py:85: UserWarning: Unknown extension is not supported and will be removed\n",
      "  for idx, row in parser.parse():\n",
      "/Users/ryanbergmac/anaconda3/lib/python3.11/site-packages/openpyxl/worksheet/_read_only.py:85: UserWarning: Unknown extension is not supported and will be removed\n",
      "  for idx, row in parser.parse():\n",
      "/Users/ryanbergmac/anaconda3/lib/python3.11/site-packages/openpyxl/worksheet/_read_only.py:85: UserWarning: Unknown extension is not supported and will be removed\n",
      "  for idx, row in parser.parse():\n",
      "/Users/ryanbergmac/anaconda3/lib/python3.11/site-packages/openpyxl/worksheet/_read_only.py:85: UserWarning: Unknown extension is not supported and will be removed\n",
      "  for idx, row in parser.parse():\n",
      "/Users/ryanbergmac/anaconda3/lib/python3.11/site-packages/openpyxl/worksheet/_read_only.py:85: UserWarning: Unknown extension is not supported and will be removed\n",
      "  for idx, row in parser.parse():\n",
      "/Users/ryanbergmac/anaconda3/lib/python3.11/site-packages/openpyxl/worksheet/_read_only.py:85: UserWarning: Unknown extension is not supported and will be removed\n",
      "  for idx, row in parser.parse():\n",
      "/Users/ryanbergmac/anaconda3/lib/python3.11/site-packages/openpyxl/worksheet/_read_only.py:85: UserWarning: Unknown extension is not supported and will be removed\n",
      "  for idx, row in parser.parse():\n"
     ]
    },
    {
     "name": "stdout",
     "output_type": "stream",
     "text": [
      "No position column found in madden_20_2020_free_agent_frenzy_roster_3-31-2020.xlsx\n"
     ]
    },
    {
     "name": "stderr",
     "output_type": "stream",
     "text": [
      "/Users/ryanbergmac/anaconda3/lib/python3.11/site-packages/openpyxl/worksheet/_read_only.py:85: UserWarning: Unknown extension is not supported and will be removed\n",
      "  for idx, row in parser.parse():\n",
      "/Users/ryanbergmac/anaconda3/lib/python3.11/site-packages/openpyxl/worksheet/_read_only.py:85: UserWarning: Unknown extension is not supported and will be removed\n",
      "  for idx, row in parser.parse():\n",
      "/Users/ryanbergmac/anaconda3/lib/python3.11/site-packages/openpyxl/worksheet/_read_only.py:85: UserWarning: Unknown extension is not supported and will be removed\n",
      "  for idx, row in parser.parse():\n"
     ]
    },
    {
     "name": "stdout",
     "output_type": "stream",
     "text": [
      "No position column found in madden_21_afc_pro_bowl__madden_nfl_21_.xlsx\n",
      "No position column found in madden_19_madden_legends__madden_nfl_19_.xlsx\n"
     ]
    },
    {
     "name": "stderr",
     "output_type": "stream",
     "text": [
      "/Users/ryanbergmac/anaconda3/lib/python3.11/site-packages/openpyxl/worksheet/_read_only.py:85: UserWarning: Unknown extension is not supported and will be removed\n",
      "  for idx, row in parser.parse():\n"
     ]
    },
    {
     "name": "stdout",
     "output_type": "stream",
     "text": [
      "No position column found in madden_20_afc_pro_bowl__madden_nfl_20_.xlsx\n"
     ]
    },
    {
     "name": "stderr",
     "output_type": "stream",
     "text": [
      "/Users/ryanbergmac/anaconda3/lib/python3.11/site-packages/openpyxl/worksheet/_read_only.py:85: UserWarning: Unknown extension is not supported and will be removed\n",
      "  for idx, row in parser.parse():\n",
      "/Users/ryanbergmac/anaconda3/lib/python3.11/site-packages/openpyxl/worksheet/_read_only.py:85: UserWarning: Unknown extension is not supported and will be removed\n",
      "  for idx, row in parser.parse():\n"
     ]
    },
    {
     "name": "stdout",
     "output_type": "stream",
     "text": [
      "No position column found in madden_15_pro_bowl_carter.xlsx\n"
     ]
    },
    {
     "name": "stderr",
     "output_type": "stream",
     "text": [
      "/Users/ryanbergmac/anaconda3/lib/python3.11/site-packages/openpyxl/worksheet/_read_only.py:85: UserWarning: Unknown extension is not supported and will be removed\n",
      "  for idx, row in parser.parse():\n"
     ]
    },
    {
     "name": "stdout",
     "output_type": "stream",
     "text": [
      "No position column found in madden_19_afc_pro_bowl__madden_nfl_19_.xlsx\n",
      "No position column found in madden_17_nfc_pro_bowl__madden_nfl_17_.xlsx\n"
     ]
    },
    {
     "name": "stderr",
     "output_type": "stream",
     "text": [
      "/Users/ryanbergmac/anaconda3/lib/python3.11/site-packages/openpyxl/worksheet/_read_only.py:85: UserWarning: Unknown extension is not supported and will be removed\n",
      "  for idx, row in parser.parse():\n"
     ]
    },
    {
     "name": "stdout",
     "output_type": "stream",
     "text": [
      "No position column found in madden_20_bleacher_report_goat_sim_roster.xlsx\n"
     ]
    },
    {
     "name": "stderr",
     "output_type": "stream",
     "text": [
      "/Users/ryanbergmac/anaconda3/lib/python3.11/site-packages/openpyxl/worksheet/_read_only.py:85: UserWarning: Unknown extension is not supported and will be removed\n",
      "  for idx, row in parser.parse():\n",
      "/Users/ryanbergmac/anaconda3/lib/python3.11/site-packages/openpyxl/worksheet/_read_only.py:85: UserWarning: Unknown extension is not supported and will be removed\n",
      "  for idx, row in parser.parse():\n",
      "/Users/ryanbergmac/anaconda3/lib/python3.11/site-packages/openpyxl/worksheet/_read_only.py:85: UserWarning: Unknown extension is not supported and will be removed\n",
      "  for idx, row in parser.parse():\n",
      "/Users/ryanbergmac/anaconda3/lib/python3.11/site-packages/openpyxl/worksheet/_read_only.py:85: UserWarning: Unknown extension is not supported and will be removed\n",
      "  for idx, row in parser.parse():\n",
      "/Users/ryanbergmac/anaconda3/lib/python3.11/site-packages/openpyxl/worksheet/_read_only.py:85: UserWarning: Unknown extension is not supported and will be removed\n",
      "  for idx, row in parser.parse():\n",
      "/Users/ryanbergmac/anaconda3/lib/python3.11/site-packages/openpyxl/worksheet/_read_only.py:85: UserWarning: Unknown extension is not supported and will be removed\n",
      "  for idx, row in parser.parse():\n"
     ]
    },
    {
     "name": "stdout",
     "output_type": "stream",
     "text": [
      "Processed 289 team files\n",
      "Found 21 unique positions: ['C', 'CB', 'DT', 'FB', 'FS', 'HB', 'K', 'LE', 'LG', 'LOLB', 'LT', 'MLB', 'P', 'QB', 'RE', 'RG', 'ROLB', 'RT', 'SS', 'TE', 'WR']\n",
      "\n",
      "Example data for buffalo_bills__madden_nfl_24__24:\n",
      "{'team': 'buffalo_bills__madden_nfl_24_', 'year': '24', 'positions': {'WR': 8, 'CB': 8, 'DT': 7, 'TE': 5, 'FS': 5, 'HB': 4, 'LE': 4, 'RG': 3, 'SS': 3, 'LG': 3, 'RT': 3, 'MLB': 3, 'ROLB': 3, 'QB': 3, 'RE': 3, 'C': 2, 'LOLB': 2, 'LT': 2, 'P': 1, 'K': 1, 'FB': 1}}\n",
      "\n",
      "Found 4 columns that start with O or o:\n",
      "['OVERALL RATING', 'OVR', 'Overall', 'Overall Rating']\n",
      "\n",
      "Found 24 columns that start with P, Po, or po:\n",
      "['PASS BLOCK', 'PLAY ACTION', 'PLAY REC', 'POSITION', 'POWER MOVE', 'PRESS', 'PURSUIT', 'Pass Block', 'Pass Block Finesse', 'Pass Block Footwork', 'Pass Block Power', 'Pass Block Strength', 'Pass Blocking', 'Play Action', 'Play Recognition', 'Player Handedness', 'Player Handness', 'Player Portrait', 'Position', 'Power Moves', 'Press', 'Primary Key', 'Pursuit', 'portraitId']\n"
     ]
    }
   ],
   "source": [
    "import pandas as pd\n",
    "import os\n",
    "import glob\n",
    "from collections import defaultdict\n",
    "\n",
    "def get_position_counts():\n",
    "    # Path to the madden_ratings directory\n",
    "    ratings_dir = \"madden_ratings\"\n",
    "    \n",
    "    # Check if directory exists\n",
    "    if not os.path.exists(ratings_dir):\n",
    "        print(f\"Error: {ratings_dir} directory not found\")\n",
    "        return None\n",
    "    \n",
    "    # Find all Excel files in the directory\n",
    "    excel_files = glob.glob(os.path.join(ratings_dir, \"*.xls*\"))\n",
    "    \n",
    "    if not excel_files:\n",
    "        print(f\"No Excel files found in {ratings_dir}\")\n",
    "        return None\n",
    "    \n",
    "    # Dictionary to store team data with position counts\n",
    "    team_position_data = {}\n",
    "    # Set to track all unique positions across all files\n",
    "    all_positions = set()\n",
    "    # Set to track all columns that start with O or o\n",
    "    o_columns = set()\n",
    "    # Set to track all columns that start with P, Po, or po\n",
    "    p_columns = set()\n",
    "    \n",
    "    # Process each file\n",
    "    for file_path in excel_files:\n",
    "        try:\n",
    "            # Extract year and team from filename\n",
    "            filename = os.path.basename(file_path)\n",
    "            \n",
    "            # Skip files that contain \"full\" or \"final\" ratings\n",
    "            if any(term in filename.lower() for term in [\"full\", \"final\"]):\n",
    "                continue\n",
    "                \n",
    "            parts = filename.replace('.xlsx', '').replace('.xls', '').split('_')\n",
    "            \n",
    "            if len(parts) >= 3 and parts[0] == 'madden':\n",
    "                year = parts[1]\n",
    "                team = '_'.join(parts[2:])\n",
    "                \n",
    "                # Read the Excel file\n",
    "                df = pd.read_excel(file_path)\n",
    "                \n",
    "                # Find position column (could be named differently in different files)\n",
    "                position_cols = [col for col in df.columns if col in ['POSITION', 'Position', 'position', 'Pos', 'POS']]\n",
    "                \n",
    "                # Collect columns that start with O or o\n",
    "                for col in df.columns:\n",
    "                    if isinstance(col, str) and col.startswith(('O', 'o')):\n",
    "                        o_columns.add(col)\n",
    "                    # Collect columns that start with P, Po, or po\n",
    "                    if isinstance(col, str) and (col.startswith('P') or col.startswith(('Po', 'po'))):\n",
    "                        p_columns.add(col)\n",
    "                \n",
    "                if position_cols:\n",
    "                    pos_column = position_cols[0]\n",
    "                    \n",
    "                    # Count positions\n",
    "                    position_counts = df[pos_column].value_counts().to_dict()\n",
    "                    \n",
    "                    # Add positions to the set of all positions\n",
    "                    all_positions.update(position_counts.keys())\n",
    "                    \n",
    "                    # Store data for this team\n",
    "                    team_key = f\"{team}_{year}\"\n",
    "                    team_position_data[team_key] = {\n",
    "                        'team': team,\n",
    "                        'year': year,\n",
    "                        'positions': position_counts\n",
    "                    }\n",
    "                else:\n",
    "                    print(f\"No position column found in {filename}\")\n",
    "            \n",
    "        except Exception as e:\n",
    "            print(f\"Error processing {file_path}: {str(e)}\")\n",
    "    \n",
    "    return team_position_data, all_positions, o_columns, p_columns\n",
    "\n",
    "# Run the function to get position data\n",
    "team_data, unique_positions, o_columns, p_columns = get_position_counts()\n",
    "\n",
    "# Print summary\n",
    "if team_data:\n",
    "    print(f\"Processed {len(team_data)} team files\")\n",
    "    print(f\"Found {len(unique_positions)} unique positions: {sorted(unique_positions)}\")\n",
    "    \n",
    "    # Print example of one team's data\n",
    "    example_team = next(iter(team_data))\n",
    "    print(f\"\\nExample data for {example_team}:\")\n",
    "    print(team_data[example_team])\n",
    "    \n",
    "    # Print columns that start with O or o\n",
    "    print(f\"\\nFound {len(o_columns)} columns that start with O or o:\")\n",
    "    print(sorted(o_columns))\n",
    "    \n",
    "    # Print columns that start with P, Po, or po\n",
    "    print(f\"\\nFound {len(p_columns)} columns that start with P, Po, or po:\")\n",
    "    print(sorted(p_columns))\n"
   ]
  },
  {
   "cell_type": "code",
   "execution_count": 2,
   "metadata": {},
   "outputs": [
    {
     "name": "stdout",
     "output_type": "stream",
     "text": [
      "{'WR', 'RT', 'LE', 'MLB', 'P', 'RG', 'TE', 'ROLB', 'LG', 'C', 'RE', 'DT', 'FS', 'HB', 'SS', 'LOLB', 'LT', 'CB', 'FB', 'QB', 'K'}\n",
      "289\n",
      "Original unique positions: 21\n",
      "Cleaned unique positions: 21\n",
      "\n",
      "Cleaned positions:\n",
      "['C', 'CB', 'DT', 'FB', 'FS', 'HB', 'K', 'LE', 'LG', 'LOLB', 'LT', 'MLB', 'P', 'QB', 'RE', 'RG', 'ROLB', 'RT', 'SS', 'TE', 'WR']\n",
      "\n",
      "Examples of position cleaning:\n"
     ]
    }
   ],
   "source": [
    "import re\n",
    "print(unique_positions)\n",
    "print(len(team_data))\n",
    "\n",
    "# Clean position names by removing text in parentheses\n",
    "cleaned_positions = set()\n",
    "for position in unique_positions:\n",
    "    # Check if position is a string (some might be NaN or other types)\n",
    "    if isinstance(position, str):\n",
    "        # Remove text in parentheses\n",
    "        cleaned_position = re.sub(r'\\s*\\([^)]*\\)', '', position).strip()\n",
    "        cleaned_positions.add(cleaned_position)\n",
    "    else:\n",
    "        # Keep non-string values as is\n",
    "        cleaned_positions.add(position)\n",
    "\n",
    "# Remove any empty strings that might have been created\n",
    "if '' in cleaned_positions:\n",
    "    cleaned_positions.remove('')\n",
    "\n",
    "print(f\"Original unique positions: {len(unique_positions)}\")\n",
    "print(f\"Cleaned unique positions: {len(cleaned_positions)}\")\n",
    "print(\"\\nCleaned positions:\")\n",
    "print(sorted(cleaned_positions))\n",
    "\n",
    "# Create a mapping from original positions to cleaned positions\n",
    "position_mapping = {}\n",
    "for position in unique_positions:\n",
    "    if isinstance(position, str):\n",
    "        cleaned_position = re.sub(r'\\s*\\([^)]*\\)', '', position).strip()\n",
    "        position_mapping[position] = cleaned_position\n",
    "\n",
    "# Print some examples of the cleaning\n",
    "print(\"\\nExamples of position cleaning:\")\n",
    "examples = [pos for pos in unique_positions if isinstance(pos, str) and '(' in pos][:10]  # Show up to 10 examples\n",
    "for original in examples:\n",
    "    print(f\"  {original} -> {position_mapping[original]}\")\n"
   ]
  },
  {
   "cell_type": "code",
   "execution_count": 3,
   "metadata": {},
   "outputs": [
    {
     "name": "stdout",
     "output_type": "stream",
     "text": [
      "dict_keys(['buffalo_bills__madden_nfl_24__24', 'new_england_patriots__madden_nfl_19__19', 'carolina_panthers__madden_nfl_20__20', 'oakland_raiders__madden_nfl_18__18', 'buffalo_bills__madden_nfl_17__17', 'green_bay_packers__madden_nfl_23__23', 'tampa_bay_buccaneers_15', 'new_york_jets__madden_nfl_21__21', 'cincinnati_bengals__madden_nfl_24__24', 'san_francisco_49ers_(madden_nfl_16)_16', 'atlanta_falcons__madden_nfl_21__21', 'cleveland_browns__madden_nfl_17__17', 'buffalo_bills__madden_nfl_18__18', 'san_francisco_49ers_15', 'tampa_bay_buccaneers__madden_nfl_19__19', 'tennessee_titans__madden_nfl_19__19', 'green_bay_packers__madden_nfl_19__19', 'pittsburgh_steelers__madden_nfl_21__21', 'cincinnati_bengals__madden_nfl_18__18', 'cincinnati_bengals__madden_nfl_21__21', 'buffalo_bills__madden_nfl_23__23', 'los_angeles_chargers__madden_nfl_20__20', 'minnesota_vikings__madden_nfl_21__21', 'new_york_jets__madden_nfl_20__20', 'seattle_seahawks__madden_nfl_24__24', 'los_angeles_rams__madden_nfl_24__24', 'oakland_raiders_(madden_nfl_16)_16', 'madden_nfl_23_player_ratings_23', 'houston_texans__madden_nfl_19__19', 'new_york_giants__madden_nfl_19__19', 'dallas_cowboys__madden_nfl_24__24', 'new_york_giants__madden_nfl_23__23', 'dallas_cowboys__madden_nfl_17__17', 'buffalo_bills__madden_nfl_19__19', 'dallas_cowboys__madden_nfl_21__21', 'washington_redskins__madden_nfl_18__18', 'miami_dolphins__madden_nfl_19__19', 'cleveland_browns_(madden_nfl_16)_16', 'jacksonville_jaguars__madden_nfl_23__23', 'baltimore_ravens__madden_nfl_21__21', 'chicago_bears_(madden_nfl_16)_16', 'pittsburgh_steelers__madden_nfl_18__18', 'oakland_raiders__madden_nfl_17__17', 'carolina_panthers_15', 'las_vegas_raiders__madden_nfl_21__21', 'cincinnati_bengals__madden_nfl_23__23', 'new_orleans_saints_15', 'denver_broncos__madden_nfl_20__20', 'new_orleans_saints__madden_nfl_19__19', 'new_orleans_saints__madden_nfl_20__20', 'cleveland_browns__madden_nfl_18__18', 'new_england_patriots__madden_nfl_20__20', 'chicago_bears_15', 'arizona_cardinals__madden_nfl_21__21', 'baltimore_ravens__madden_nfl_23__23', 'philadelphia_eagles_(madden_nfl_16)_16', 'los_angeles_chargers__madden_nfl_19__19', 'carolina_panthers__madden_nfl_17__17', 'tampa_bay_buccaneers__madden_nfl_20__20', 'los_angeles_rams__madden_nfl_20__20', 'seattle_seahawks__madden_nfl_20__20', 'tennessee_titans_15', 'seattle_seahawks_15', 'los_angeles_chargers__madden_nfl_21__21', 'arizona_cardinals_(madden_nfl_16)_16', 'tampa_bay_buccaneers__madden_nfl_18__18', 'detroit_lions__madden_nfl_20__20', 'washington_redskins_(madden_nfl_16)_16', 'denver_broncos__madden_nfl_18__18', 'cincinnati_bengals__madden_nfl_20__20', 'cincinnati_bengals__madden_nfl_19__19', 'minnesota_vikings__madden_nfl_18__18', 'jacksonville_jagaurs__madden_nfl_17__17', 'philadelphia_eagles__madden_nfl_21__21', 'new_york_giants__madden_nfl_17__17', 'new_england_patriots__madden_nfl_18__18', 'kansas_city_chiefs_(madden_nfl_16)_16', 'detroit_lions__madden_nfl_21__21', 'carolina_panthers__madden_nfl_23__23', 'philadelphia_eagles_15', 'kansas_city_chiefs__madden_nfl_17__17', 'green_bay_packers__madden_nfl_20__20', 'minnesota_vikings__madden_nfl_24__24', 'tennessee_titans__madden_nfl_18__18', 'denver_broncos__madden_nfl_23__23', 'new_orleans_saints__madden_nfl_23__23', 'carolina_panthers__madden_nfl_19__19', 'indianapolis_colts__madden_nfl_17__17', 'indianapolis_colts_(madden_nfl_16)_16', 'buffalo_bills_(madden_nfl_16)_16', 'new_england_patriots_15', 'baltimore_ravens__madden_nfl_24__24', 'san_francisco_49ers__madden_nfl_18__18', 'washington_commanders__madden_nfl_24__24', 'houston_texans__madden_nfl_17__17', 'houston_texans__madden_nfl_21__21', 'philadelphia_eagles__madden_nfl_18__18', 'miami_dolphins__madden_nfl_24__24', 'buffalo_bills_15', 'chicago_bears__madden_nfl_19__19', 'houston_texans_15', 'minnesota_vikings_(madden_nfl_16)_16', 'oakland_raiders_15', 'cleveland_browns__madden_nfl_19__19', 'dallas_cowboys__madden_nfl_19__19', 'new_york_giants__madden_nfl_24__24', 'las_vegas_raiders__madden_nfl_24__24', 'new_york_giants__madden_nfl_18__18', 'miami_dolphins__madden_nfl_17__17', 'miami_dolphins__madden_nfl_21__21', 'washington_football__madden_nfl_21__21', 'houston_texans__madden_nfl_24__24', 'tennessee_titans__madden_nfl_17__17', 'seattle_seahawks__madden_nfl_21__21', 'los_angeles_rams__madden_nfl_21__21', 'arizona_cardinals__madden_nfl_18__18', 'indianapolis_colts_15', 'green_bay_packers__madden_nfl_17__17', 'tampa_bay_buccaneers__madden_nfl_21__21', 'chicago_bears__madden_nfl_18__18', 'new_orleans_saints__madden_nfl_24__24', 'san_francisco_49ers__madden_nfl_21__21', 'baltimore_ravens__madden_nfl_20__20', 'tennessee_titans_(madden_nfl_16)_16', 'jacksonville_jaguars_(madden_nfl_16)_16', 'los_angeles_chargers__madden_nfl_18__18', 'arizona_cardinals__madden_nfl_24__24', 'chicago_bears__madden_nfl_23__23', 'san_diego_chargers_15', 'minnesota_vikings_15', 'chicago_bears__madden_nfl_24__24', 'new_york_giants_(madden_nfl_16)_16', 'new_orleans_saints__madden_nfl_21__21', 'new_orleans_saints__madden_nfl_18__18', 'los_angeles_rams__madden_nfl_23__23', 'atlanta_falcons__madden_nfl_20__20', 'chicago_bears__madden_nfl_17__17', 'new_england_patriots__madden_nfl_21__21', 'cleveland_browns_15', 'seattle_seahawks__madden_nfl_23__23', 'jacksonville_jaguars__madden_nfl_24__24', 'denver_broncos_(madden_nfl_16)_16', 'pittsburgh_steelers_(madden_nfl_16)_16', 'oakland_raiders__madden_nfl_19__19', 'kansas_city_chiefs_15', 'los_angeles_rams__madden_nfl_19__19', 'new_york_giants_15', 'seattle_seahawks__madden_nfl_19__19', 'buffalo_bills__madden_nfl_20__20', 'philadelphia_eagles__madden_nfl_19__19', 'green_bay_packers_(madden_nfl_16)_16', 'philadelphia_eagles__madden_nfl_23__23', 'los_angeles_chargers__madden_nfl_24__24', 'jacksonville_jaguars__madden_nfl_18__18', 'cleveland_browns__madden_nfl_21__21', 'atlanta_falcons__madden_nfl_24__24', 'atlanta_falcons__madden_nfl_18__18', 'philadelphia_eagles__madden_nfl_24__24', 'minnesota_vikings__madden_nfl_17__17', 'new_york_jets__madden_nfl_19__19', 'dallas_cowboys_(madden_nfl_16)_16', 'new_york_jets_15', 'new_york_jets__madden_nfl_24__24', 'new_york_jets__madden_nfl_17__17', 'dallas_cowboys_15', 'arizona_cardinals_15', 'san_francisco_49ers__madden_nfl_20__20', 'arizona_cardinals__madden_nfl_20__20', 'buffalo_bills__madden_nfl_21__21', 'philadelphia_eagles__madden_nfl_17__17', 'new_york_jets__madden_nfl_18__18', 'new_york_giants__madden_nfl_20__20', 'tennessee_titans__madden_nfl_24__24', 'detroit_lions_(madden_nfl_16)_16', 'atlanta_falcons_(madden_nfl_16)_16', 'denver_broncos__madden_nfl_19__19', 'cleveland_browns__madden_nfl_23__23', 'baltimore_ravens_15', 'baltimore_ravens__madden_nfl_18__18', 'new_york_jets__madden_nfl_23__23', 'carolina_panthers__madden_nfl_21__21', 'jacksonville_jaguars_15', 'atlanta_falcons_15', 'cincinnati_bengals_(madden_nfl_16)_16', 'cincinnati_bengals__madden_nfl_17__17', 'arizona_cardinals__madden_nfl_17__17', 'san_francisco_49ers__madden_nfl_17__17', 'philadelphia_eagles__madden_nfl_20__20', 'green_bay_packers__madden_nfl_18__18', 'atlanta_falcons__madden_nfl_17__17', 'dallas_cowboys__madden_nfl_23__23', 'baltimore_ravens__madden_nfl_17__17', 'green_bay_packers_15', 'dallas_cowboys__madden_nfl_18__18', 'minnesota_vikings__madden_nfl_20__20', 'green_bay_packers__madden_nfl_24__24', 'miami_dolphins__madden_nfl_20__20', 'kansas_city_chiefs__madden_nfl_19__19', 'kansas_city_chiefs__madden_nfl_20__20', 'new_england_patriots_(madden_nfl_16)_16', 'san_francisco_49ers__madden_nfl_24__24', 'baltimore_ravens_(madden_nfl_16)_16', 'tennessee_titans__madden_nfl_20__20', 'new_england_patriots__madden_nfl_17__17', 'tampa_bay_buccaneers__madden_nfl_24__24', 'washington_commanders__madden_nfl_23__23', 'houston_texans__madden_nfl_20__20', 'indianapolis_colts__madden_nfl_19__19', 'san_diego_chargers__madden_nfl_17__17', 'tampa_bay_buccaneers_(madden_nfl_16)_16', 'indianapolis_colts__madden_nfl_20__20', 'san_francisco_49ers__madden_nfl_19__19', 'san_francisco_49ers__madden_nfl_23__23', 'san_diego_chargers_(madden_nfl_16)_16', 'jacksonville_jaguars__madden_nfl_21__21', 'new_england_patriots__madden_nfl_24__24', 'tampa_bay_buccaneers__madden_nfl_17__17', 'pittsburgh_steelers__madden_nfl_19__19', 'pittsburgh_steelers__madden_nfl_23__23', 'miami_dolphins_15', 'detroit_lions__madden_nfl_17__17', 'arizona_cardinals__madden_nfl_23__23', 'dallas_cowboys__madden_nfl_20__20', 'miami_dolphins__madden_nfl_18__18', 'detroit_lions__madden_nfl_24__24', 'jacksonville_jaguars__madden_nfl_19__19', 'detroit_lions__madden_nfl_23__23', 'pittsburgh_steelers__madden_nfl_24__24', 'houston_texans__madden_nfl_18__18', 'new_york_jets_(madden_nfl_16)_16', 'arizona_cardinals__madden_nfl_19__19', 'baltimore_ravens__madden_nfl_19__19', 'detroit_lions__madden_nfl_18__18', 'pittsburgh_steelers_15', 'houston_texans__madden_nfl_23__23', 'indianapolis_colts__madden_nfl_23__23', 'new_orleans_saints__madden_nfl_17__17', 'seattle_seahawks__madden_nfl_18__18', 'new_orleans_saints_(madden_nfl_16)_16', 'los_angeles_rams__madden_nfl_18__18', 'pittsburgh_steelers__madden_nfl_17__17', 'st_louis_rams_16', 'denver_broncos_15', 'cincinnati_bengals_15', 'washington_redskins__madden_nfl_20__20', 'carolina_panthers_(madden_nfl_16)_16', 'miami_dolphins__madden_nfl_23__23', 'cleveland_browns__madden_nfl_20__20', 'kansas_city_chiefs__madden_nfl_23__23', 'detroit_lions__madden_nfl_19__19', 'las_vegas_raiders__madden_nfl_23__23', 'detroit_lions_15', 'los_angeles_chargers__madden_nfl_23__23', 'los_angeles_rams__madden_nfl_17__17', 'seattle_seahawks__madden_nfl_17__17', 'minnesota_vikings__madden_nfl_23__23', 'denver_broncos__madden_nfl_24__24', 'carolina_panthers__madden_nfl_24__24', 'new_york_giants__madden_nfl_21__21', 'new_england_patriots__madden_nfl_23__23', 'tennessee_titans__madden_nfl_21__21', 'minnesota_vikings__madden_nfl_19__19', 'denver_broncos__madden_nfl_21__21', 'denver_broncos__madden_nfl_17__17', 'washington_redskins__madden_nfl_17__17', 'tampa_bay_buccaneers__madden_nfl_23__23', 'pittsburgh_steelers__madden_nfl_20__20', 'chicago_bears__madden_nfl_21__21', 'st_louis_rams_15', 'indianapolis_colts__madden_nfl_21__21', 'tennessee_titans__madden_nfl_23__23', 'indianapolis_colts__madden_nfl_18__18', 'kansas_city_chiefs__madden_nfl_24__24', 'jacksonville_jaguars__madden_nfl_20__20', 'houston_texans_(madden_nfl_16)_16', 'green_bay_packers__madden_nfl_21__21', 'oakland_raiders__madden_nfl_20__20', 'cleveland_browns__madden_nfl_24__24', 'atlanta_falcons__madden_nfl_19__19', 'washington_redskins__madden_nfl_19__19', 'seattle_seahawks_(madden_nfl_16)_16', 'washington_commanders_15', 'indianapolis_colts__madden_nfl_24__24', 'carolina_panthers__madden_nfl_18__18', 'kansas_city_chiefs__madden_nfl_21__21', 'chicago_bears__madden_nfl_20__20', 'kansas_city_chiefs__madden_nfl_18__18', 'miami_dolphins_(madden_nfl_16)_16', 'atlanta_falcons__madden_nfl_23__23'])\n",
      "{'team': 'buffalo_bills__madden_nfl_17_', 'year': '17', 'positions': {'WR': 10, 'CB': 8, 'DT': 6, 'TE': 5, 'SS': 5, 'HB': 5, 'RE': 3, 'QB': 3, 'MLB': 3, 'C': 3, 'LOLB': 3, 'LE': 3, 'FS': 3, 'LG': 2, 'K': 2, 'RG': 2, 'ROLB': 2, 'RT': 2, 'LT': 2, 'P': 1, 'FB': 1}}\n"
     ]
    }
   ],
   "source": [
    "print(team_data.keys())\n",
    "print(team_data[\"buffalo_bills__madden_nfl_17__17\"])"
   ]
  },
  {
   "cell_type": "code",
   "execution_count": 4,
   "metadata": {},
   "outputs": [
    {
     "name": "stdout",
     "output_type": "stream",
     "text": [
      "\n",
      "Teams with the most players in each position:\n",
      "C: pittsburgh_steelers_(madden_nfl_16)_16 with 5 players\n",
      "CB: green_bay_packers__madden_nfl_19__19 with 11 players\n",
      "DT: dallas_cowboys__madden_nfl_19__19 with 9 players\n",
      "FB: san_francisco_49ers_15 with 3 players\n",
      "FS: los_angeles_chargers__madden_nfl_18__18 with 6 players\n",
      "HB: new_york_giants__madden_nfl_17__17 with 7 players\n",
      "K: buffalo_bills__madden_nfl_21__21 with 3 players\n",
      "LE: atlanta_falcons__madden_nfl_21__21 with 6 players\n",
      "LG: washington_redskins__madden_nfl_19__19 with 5 players\n",
      "LOLB: washington_redskins__madden_nfl_18__18 with 6 players\n",
      "LT: cincinnati_bengals__madden_nfl_24__24 with 4 players\n",
      "MLB: new_york_giants__madden_nfl_21__21 with 9 players\n",
      "P: new_england_patriots__madden_nfl_19__19 with 2 players\n",
      "QB: pittsburgh_steelers__madden_nfl_21__21 with 5 players\n",
      "RE: cincinnati_bengals__madden_nfl_23__23 with 6 players\n",
      "RG: cincinnati_bengals__madden_nfl_24__24 with 4 players\n",
      "ROLB: houston_texans__madden_nfl_19__19 with 5 players\n",
      "RT: los_angeles_chargers__madden_nfl_21__21 with 5 players\n",
      "SS: seattle_seahawks__madden_nfl_19__19 with 6 players\n",
      "TE: denver_broncos__madden_nfl_21__21 with 9 players\n",
      "WR: arizona_cardinals__madden_nfl_18__18 with 12 players\n"
     ]
    },
    {
     "data": {
      "image/png": "[encoded data removed]",
      "text/plain": [
       "<Figure size 1200x600 with 1 Axes>"
      ]
     },
     "metadata": {},
     "output_type": "display_data"
    },
    {
     "name": "stdout",
     "output_type": "stream",
     "text": [
      "\n",
      "Statistics on position maximum counts:\n",
      "Average maximum count: 6.10\n",
      "Highest maximum count: 12\n",
      "Lowest maximum count: 2\n"
     ]
    }
   ],
   "source": [
    "# Analyze position data across teams\n",
    "import pandas as pd\n",
    "import matplotlib.pyplot as plt\n",
    "from collections import defaultdict\n",
    "\n",
    "# Dictionary to store position counts for each team\n",
    "position_team_counts = defaultdict(lambda: defaultdict(int))\n",
    "\n",
    "# Process each team's data\n",
    "for team_name, team_data_dict in team_data.items():\n",
    "    if \"player_ratings\" in team_name:\n",
    "        continue\n",
    "    # Check if the team data has a 'positions' dictionary\n",
    "    if 'positions' in team_data_dict:\n",
    "        positions = team_data_dict['positions']\n",
    "        if positions:  # Check if the positions dictionary is not empty\n",
    "            # Clean the positions using our position_mapping\n",
    "            for position, count in positions.items():\n",
    "                cleaned_position = position\n",
    "                if isinstance(position, str) and position in position_mapping:\n",
    "                    cleaned_position = position_mapping[position]\n",
    "                # Update the count for this team and position\n",
    "                position_team_counts[cleaned_position][team_name] += count\n",
    "\n",
    "# Find the team with the most players for each position\n",
    "position_max_teams = {}\n",
    "position_max_counts = {}\n",
    "\n",
    "for position, team_counts in position_team_counts.items():\n",
    "    max_team = max(team_counts.items(), key=lambda x: x[1], default=(None, 0))\n",
    "    if max_team[0]:  # If we found a team\n",
    "        position_max_teams[position] = max_team[0]\n",
    "        position_max_counts[position] = max_team[1]\n",
    "\n",
    "# Display results\n",
    "print(\"\\nTeams with the most players in each position:\")\n",
    "for position in sorted(position_max_teams.keys()):\n",
    "    team = position_max_teams[position]\n",
    "    count = position_max_counts[position]\n",
    "    print(f\"{position}: {team} with {count} players\")\n",
    "\n",
    "# Visualize the distribution of maximum positions\n",
    "if position_max_counts:\n",
    "    # Sort positions by their maximum counts\n",
    "    sorted_positions = sorted(position_max_counts.items(), key=lambda x: x[1], reverse=True)\n",
    "    \n",
    "    # Create a bar chart\n",
    "    plt.figure(figsize=(12, 6))\n",
    "    positions = [pos for pos, _ in sorted_positions]\n",
    "    counts = [count for _, count in sorted_positions]\n",
    "    \n",
    "    plt.bar(positions, counts)\n",
    "    plt.xlabel('Position')\n",
    "    plt.ylabel('Maximum Number of Players')\n",
    "    plt.title('Maximum Number of Players in Each Position by Team')\n",
    "    plt.xticks(rotation=45, ha='right')\n",
    "    plt.tight_layout()\n",
    "    plt.show()\n",
    "    \n",
    "    # Calculate and display some statistics\n",
    "    all_max_counts = list(position_max_counts.values())\n",
    "    avg_max_count = sum(all_max_counts) / len(all_max_counts)\n",
    "    max_max_count = max(all_max_counts)\n",
    "    min_max_count = min(all_max_counts)\n",
    "    \n",
    "    print(f\"\\nStatistics on position maximum counts:\")\n",
    "    print(f\"Average maximum count: {avg_max_count:.2f}\")\n",
    "    print(f\"Highest maximum count: {max_max_count}\")\n",
    "    print(f\"Lowest maximum count: {min_max_count}\")\n"
   ]
  },
  {
   "cell_type": "code",
   "execution_count": 5,
   "metadata": {},
   "outputs": [
    {
     "name": "stdout",
     "output_type": "stream",
     "text": [
      "Loaded wins data with 320 records\n",
      "              Team  Season  Regular Season Wins  Playoff Wins  Total Wins\n",
      "0  New York Giants    2015                    6             0           6\n",
      "1  New York Giants    2016                   11             0          11\n",
      "2  New York Giants    2017                    3             0           3\n",
      "3  New York Giants    2018                    5             0           5\n",
      "4  New York Giants    2019                    4             0           4\n"
     ]
    }
   ],
   "source": [
    "position_maximums = [\n",
    "    (\"C\", 5),\n",
    "    (\"CB\", 11),\n",
    "    (\"DT\", 9),\n",
    "    (\"FB\", 3),\n",
    "    (\"FS\", 6),\n",
    "    (\"HB\", 7),\n",
    "    (\"K\", 3),\n",
    "    (\"LE\", 6),\n",
    "    (\"LG\", 5),\n",
    "    (\"LOLB\", 6),\n",
    "    (\"LT\", 4),\n",
    "    (\"MLB\", 9),\n",
    "    (\"P\", 2),\n",
    "    (\"QB\", 5),\n",
    "    (\"RE\", 6),\n",
    "    (\"RG\", 4),\n",
    "    (\"ROLB\", 5),\n",
    "    (\"RT\", 5),\n",
    "    (\"SS\", 6),\n",
    "    (\"TE\", 9),\n",
    "    (\"WR\", 12)\n",
    "]\n",
    "\n",
    "# Create columns for each position up to max + 1\n",
    "columns = []\n",
    "for position, max_count in position_maximums:\n",
    "    for i in range(1, max_count + 2):  # +2 because range is exclusive\n",
    "        columns.append(f\"{position}{i}\")\n",
    "\n",
    "# Create DataFrame with these columns\n",
    "df = pd.DataFrame(columns=columns)\n",
    "\n",
    "# The DataFrame now has 149 columns total\n",
    "# Example: C1, C2, C3, C4, C5, C6, CB1, CB2, ..., WR13\n",
    "# Add team and win columns to the DataFrame\n",
    "df['team_name'] = \"\"\n",
    "df['year'] = 0\n",
    "df['regular_season_wins'] = 0\n",
    "df['playoff_wins'] = 0\n",
    "df['total_wins'] = 0\n",
    "\n",
    "# Load the team wins data to populate these columns later\n",
    "try:\n",
    "    # Assuming the wins data is in a CSV file\n",
    "    wins_data = pd.read_csv('../../data/wins/NFL_Team_Wins_2015_2024.csv')\n",
    "    print(f\"Loaded wins data with {len(wins_data)} records\")\n",
    "    \n",
    "    # Display the first few rows to verify the data\n",
    "    print(wins_data.head())\n",
    "except Exception as e:\n",
    "    print(f\"Error loading wins data: {e}\")\n",
    "    # Create an empty DataFrame if the file doesn't exist\n",
    "    wins_data = pd.DataFrame(columns=['Team', 'Season', 'Regular Season Wins', 'Playoff Wins', 'Total Wins'])\n"
   ]
  },
  {
   "cell_type": "code",
   "execution_count": 6,
   "metadata": {},
   "outputs": [],
   "source": [
    "copy_of_df = df.copy()"
   ]
  },
  {
   "cell_type": "code",
   "execution_count": 7,
   "metadata": {},
   "outputs": [
    {
     "name": "stderr",
     "output_type": "stream",
     "text": [
      "/Users/ryanbergmac/anaconda3/lib/python3.11/site-packages/openpyxl/worksheet/_read_only.py:85: UserWarning: Unknown extension is not supported and will be removed\n",
      "  for idx, row in parser.parse():\n"
     ]
    },
    {
     "name": "stdout",
     "output_type": "stream",
     "text": [
      "-- 2015 Team name: Tampa Bay Buccaneers\n"
     ]
    },
    {
     "name": "stderr",
     "output_type": "stream",
     "text": [
      "/Users/ryanbergmac/anaconda3/lib/python3.11/site-packages/openpyxl/worksheet/_read_only.py:85: UserWarning: Unknown extension is not supported and will be removed\n",
      "  for idx, row in parser.parse():\n"
     ]
    },
    {
     "name": "stdout",
     "output_type": "stream",
     "text": [
      "-- 2015 Team name: San Francisco 49ers\n"
     ]
    },
    {
     "name": "stderr",
     "output_type": "stream",
     "text": [
      "/Users/ryanbergmac/anaconda3/lib/python3.11/site-packages/openpyxl/worksheet/_read_only.py:85: UserWarning: Unknown extension is not supported and will be removed\n",
      "  for idx, row in parser.parse():\n"
     ]
    },
    {
     "name": "stdout",
     "output_type": "stream",
     "text": [
      "-- 2015 Team name: Carolina Panthers\n"
     ]
    },
    {
     "name": "stderr",
     "output_type": "stream",
     "text": [
      "/Users/ryanbergmac/anaconda3/lib/python3.11/site-packages/openpyxl/worksheet/_read_only.py:85: UserWarning: Unknown extension is not supported and will be removed\n",
      "  for idx, row in parser.parse():\n"
     ]
    },
    {
     "name": "stdout",
     "output_type": "stream",
     "text": [
      "-- 2015 Team name: New Orleans Saints\n"
     ]
    },
    {
     "name": "stderr",
     "output_type": "stream",
     "text": [
      "/Users/ryanbergmac/anaconda3/lib/python3.11/site-packages/openpyxl/worksheet/_read_only.py:85: UserWarning: Unknown extension is not supported and will be removed\n",
      "  for idx, row in parser.parse():\n"
     ]
    },
    {
     "name": "stdout",
     "output_type": "stream",
     "text": [
      "-- 2015 Team name: Chicago Bears\n",
      "-- 2015 Team name: madden_nfl_15_-_full_player_ratings\n"
     ]
    },
    {
     "name": "stderr",
     "output_type": "stream",
     "text": [
      "/Users/ryanbergmac/anaconda3/lib/python3.11/site-packages/openpyxl/worksheet/_read_only.py:85: UserWarning: Unknown extension is not supported and will be removed\n",
      "  for idx, row in parser.parse():\n",
      "/Users/ryanbergmac/anaconda3/lib/python3.11/site-packages/openpyxl/worksheet/_read_only.py:85: UserWarning: Unknown extension is not supported and will be removed\n",
      "  for idx, row in parser.parse():\n"
     ]
    },
    {
     "name": "stdout",
     "output_type": "stream",
     "text": [
      "-- 2015 Team name: Tennessee Titans\n",
      "-- 2015 Team name: Seattle Seahawks\n"
     ]
    },
    {
     "name": "stderr",
     "output_type": "stream",
     "text": [
      "/Users/ryanbergmac/anaconda3/lib/python3.11/site-packages/openpyxl/worksheet/_read_only.py:85: UserWarning: Unknown extension is not supported and will be removed\n",
      "  for idx, row in parser.parse():\n"
     ]
    },
    {
     "name": "stdout",
     "output_type": "stream",
     "text": [
      "-- 2015 Team name: Philadelphia Eagles\n"
     ]
    },
    {
     "name": "stderr",
     "output_type": "stream",
     "text": [
      "/Users/ryanbergmac/anaconda3/lib/python3.11/site-packages/openpyxl/worksheet/_read_only.py:85: UserWarning: Unknown extension is not supported and will be removed\n",
      "  for idx, row in parser.parse():\n"
     ]
    },
    {
     "name": "stdout",
     "output_type": "stream",
     "text": [
      "-- 2015 Team name: New England Patriots\n"
     ]
    },
    {
     "name": "stderr",
     "output_type": "stream",
     "text": [
      "/Users/ryanbergmac/anaconda3/lib/python3.11/site-packages/openpyxl/worksheet/_read_only.py:85: UserWarning: Unknown extension is not supported and will be removed\n",
      "  for idx, row in parser.parse():\n",
      "/Users/ryanbergmac/anaconda3/lib/python3.11/site-packages/openpyxl/worksheet/_read_only.py:85: UserWarning: Unknown extension is not supported and will be removed\n",
      "  for idx, row in parser.parse():\n",
      "/Users/ryanbergmac/anaconda3/lib/python3.11/site-packages/openpyxl/worksheet/_read_only.py:85: UserWarning: Unknown extension is not supported and will be removed\n",
      "  for idx, row in parser.parse():\n"
     ]
    },
    {
     "name": "stdout",
     "output_type": "stream",
     "text": [
      "-- 2015 Team name: Buffalo Bills\n",
      "-- 2015 Team name: Houston Texans\n",
      "-- 2015 Team name: Las Vegas Raiders\n"
     ]
    },
    {
     "name": "stderr",
     "output_type": "stream",
     "text": [
      "/Users/ryanbergmac/anaconda3/lib/python3.11/site-packages/openpyxl/worksheet/_read_only.py:85: UserWarning: Unknown extension is not supported and will be removed\n",
      "  for idx, row in parser.parse():\n"
     ]
    },
    {
     "name": "stdout",
     "output_type": "stream",
     "text": [
      "-- 2015 Team name: Indianapolis Colts\n"
     ]
    },
    {
     "name": "stderr",
     "output_type": "stream",
     "text": [
      "/Users/ryanbergmac/anaconda3/lib/python3.11/site-packages/openpyxl/worksheet/_read_only.py:85: UserWarning: Unknown extension is not supported and will be removed\n",
      "  for idx, row in parser.parse():\n",
      "/Users/ryanbergmac/anaconda3/lib/python3.11/site-packages/openpyxl/worksheet/_read_only.py:85: UserWarning: Unknown extension is not supported and will be removed\n",
      "  for idx, row in parser.parse():\n"
     ]
    },
    {
     "name": "stdout",
     "output_type": "stream",
     "text": [
      "-- 2015 Team name: Los Angeles Chargers\n",
      "-- 2015 Team name: Minnesota Vikings\n"
     ]
    },
    {
     "name": "stderr",
     "output_type": "stream",
     "text": [
      "/Users/ryanbergmac/anaconda3/lib/python3.11/site-packages/openpyxl/worksheet/_read_only.py:85: UserWarning: Unknown extension is not supported and will be removed\n",
      "  for idx, row in parser.parse():\n"
     ]
    },
    {
     "name": "stdout",
     "output_type": "stream",
     "text": [
      "-- 2015 Team name: Cleveland Browns\n"
     ]
    },
    {
     "name": "stderr",
     "output_type": "stream",
     "text": [
      "/Users/ryanbergmac/anaconda3/lib/python3.11/site-packages/openpyxl/worksheet/_read_only.py:85: UserWarning: Unknown extension is not supported and will be removed\n",
      "  for idx, row in parser.parse():\n",
      "/Users/ryanbergmac/anaconda3/lib/python3.11/site-packages/openpyxl/worksheet/_read_only.py:85: UserWarning: Unknown extension is not supported and will be removed\n",
      "  for idx, row in parser.parse():\n"
     ]
    },
    {
     "name": "stdout",
     "output_type": "stream",
     "text": [
      "-- 2015 Team name: Kansas City Chiefs\n",
      "-- 2015 Team name: New York Giants\n"
     ]
    },
    {
     "name": "stderr",
     "output_type": "stream",
     "text": [
      "/Users/ryanbergmac/anaconda3/lib/python3.11/site-packages/openpyxl/worksheet/_read_only.py:85: UserWarning: Unknown extension is not supported and will be removed\n",
      "  for idx, row in parser.parse():\n"
     ]
    },
    {
     "name": "stdout",
     "output_type": "stream",
     "text": [
      "-- 2015 Team name: New York Jets\n"
     ]
    },
    {
     "name": "stderr",
     "output_type": "stream",
     "text": [
      "/Users/ryanbergmac/anaconda3/lib/python3.11/site-packages/openpyxl/worksheet/_read_only.py:85: UserWarning: Unknown extension is not supported and will be removed\n",
      "  for idx, row in parser.parse():\n",
      "/Users/ryanbergmac/anaconda3/lib/python3.11/site-packages/openpyxl/worksheet/_read_only.py:85: UserWarning: Unknown extension is not supported and will be removed\n",
      "  for idx, row in parser.parse():\n"
     ]
    },
    {
     "name": "stdout",
     "output_type": "stream",
     "text": [
      "-- 2015 Team name: Dallas Cowboys\n",
      "-- 2015 Team name: Arizona Cardinals\n"
     ]
    },
    {
     "name": "stderr",
     "output_type": "stream",
     "text": [
      "/Users/ryanbergmac/anaconda3/lib/python3.11/site-packages/openpyxl/worksheet/_read_only.py:85: UserWarning: Unknown extension is not supported and will be removed\n",
      "  for idx, row in parser.parse():\n"
     ]
    },
    {
     "name": "stdout",
     "output_type": "stream",
     "text": [
      "-- 2015 Team name: Baltimore Ravens\n"
     ]
    },
    {
     "name": "stderr",
     "output_type": "stream",
     "text": [
      "/Users/ryanbergmac/anaconda3/lib/python3.11/site-packages/openpyxl/worksheet/_read_only.py:85: UserWarning: Unknown extension is not supported and will be removed\n",
      "  for idx, row in parser.parse():\n",
      "/Users/ryanbergmac/anaconda3/lib/python3.11/site-packages/openpyxl/worksheet/_read_only.py:85: UserWarning: Unknown extension is not supported and will be removed\n",
      "  for idx, row in parser.parse():\n"
     ]
    },
    {
     "name": "stdout",
     "output_type": "stream",
     "text": [
      "-- 2015 Team name: Jacksonville Jaguars\n",
      "-- 2015 Team name: Atlanta Falcons\n"
     ]
    },
    {
     "name": "stderr",
     "output_type": "stream",
     "text": [
      "/Users/ryanbergmac/anaconda3/lib/python3.11/site-packages/openpyxl/worksheet/_read_only.py:85: UserWarning: Unknown extension is not supported and will be removed\n",
      "  for idx, row in parser.parse():\n"
     ]
    },
    {
     "name": "stdout",
     "output_type": "stream",
     "text": [
      "-- 2015 Team name: Green Bay Packers\n"
     ]
    },
    {
     "name": "stderr",
     "output_type": "stream",
     "text": [
      "/Users/ryanbergmac/anaconda3/lib/python3.11/site-packages/openpyxl/worksheet/_read_only.py:85: UserWarning: Unknown extension is not supported and will be removed\n",
      "  for idx, row in parser.parse():\n"
     ]
    },
    {
     "name": "stdout",
     "output_type": "stream",
     "text": [
      "-- 2015 Team name: Miami Dolphins\n"
     ]
    },
    {
     "name": "stderr",
     "output_type": "stream",
     "text": [
      "/Users/ryanbergmac/anaconda3/lib/python3.11/site-packages/openpyxl/worksheet/_read_only.py:85: UserWarning: Unknown extension is not supported and will be removed\n",
      "  for idx, row in parser.parse():\n"
     ]
    },
    {
     "name": "stdout",
     "output_type": "stream",
     "text": [
      "-- 2015 Team name: Pittsburgh Steelers\n"
     ]
    },
    {
     "name": "stderr",
     "output_type": "stream",
     "text": [
      "/Users/ryanbergmac/anaconda3/lib/python3.11/site-packages/openpyxl/worksheet/_read_only.py:85: UserWarning: Unknown extension is not supported and will be removed\n",
      "  for idx, row in parser.parse():\n",
      "/Users/ryanbergmac/anaconda3/lib/python3.11/site-packages/openpyxl/worksheet/_read_only.py:85: UserWarning: Unknown extension is not supported and will be removed\n",
      "  for idx, row in parser.parse():\n"
     ]
    },
    {
     "name": "stdout",
     "output_type": "stream",
     "text": [
      "-- 2015 Team name: Denver Broncos\n",
      "-- 2015 Team name: Cincinnati Bengals\n"
     ]
    },
    {
     "name": "stderr",
     "output_type": "stream",
     "text": [
      "/Users/ryanbergmac/anaconda3/lib/python3.11/site-packages/openpyxl/worksheet/_read_only.py:85: UserWarning: Unknown extension is not supported and will be removed\n",
      "  for idx, row in parser.parse():\n"
     ]
    },
    {
     "name": "stdout",
     "output_type": "stream",
     "text": [
      "-- 2015 Team name: Detroit Lions\n"
     ]
    },
    {
     "name": "stderr",
     "output_type": "stream",
     "text": [
      "/Users/ryanbergmac/anaconda3/lib/python3.11/site-packages/openpyxl/worksheet/_read_only.py:85: UserWarning: Unknown extension is not supported and will be removed\n",
      "  for idx, row in parser.parse():\n"
     ]
    },
    {
     "name": "stdout",
     "output_type": "stream",
     "text": [
      "-- 2015 Team name: Los Angeles Rams\n"
     ]
    },
    {
     "name": "stderr",
     "output_type": "stream",
     "text": [
      "/Users/ryanbergmac/anaconda3/lib/python3.11/site-packages/openpyxl/worksheet/_read_only.py:85: UserWarning: Unknown extension is not supported and will be removed\n",
      "  for idx, row in parser.parse():\n"
     ]
    },
    {
     "name": "stdout",
     "output_type": "stream",
     "text": [
      "-- 2015 Team name: Washington Commanders\n",
      "Processed 305 team files\n",
      "Final DataFrame has 305 rows and 154 columns\n",
      "\n",
      "Sample of the populated DataFrame:\n",
      "              team_name  year  regular_season_wins  total_wins\n",
      "0         Buffalo Bills  2024                 13.0        15.0\n",
      "1  New England Patriots  2019                 12.0        12.0\n",
      "2     Carolina Panthers  2020                  5.0         5.0\n",
      "3     Las Vegas Raiders  2018                  4.0         4.0\n",
      "4         Buffalo Bills  2017                  9.0         9.0\n"
     ]
    }
   ],
   "source": [
    "# Function to map team names from Madden files to the names in the wins data\n",
    "def normalize_team_name(team_name):\n",
    "    # Dictionary to map team names from Madden files to standardized names\n",
    "    team_mapping = {\n",
    "        'arizona_cardinals': 'Arizona Cardinals',\n",
    "        'atlanta_falcons': 'Atlanta Falcons',\n",
    "        'baltimore_ravens': 'Baltimore Ravens',\n",
    "        'buffalo_bills': 'Buffalo Bills',\n",
    "        'carolina_panthers': 'Carolina Panthers',\n",
    "        'chicago_bears': 'Chicago Bears',\n",
    "        'cincinnati_bengals': 'Cincinnati Bengals',\n",
    "        'cleveland_browns': 'Cleveland Browns',\n",
    "        'dallas_cowboys': 'Dallas Cowboys',\n",
    "        'denver_broncos': 'Denver Broncos',\n",
    "        'detroit_lions': 'Detroit Lions',\n",
    "        'green_bay_packers': 'Green Bay Packers',\n",
    "        'houston_texans': 'Houston Texans',\n",
    "        'indianapolis_colts': 'Indianapolis Colts',\n",
    "        'jacksonville_jaguars': 'Jacksonville Jaguars',\n",
    "        'kansas_city_chiefs': 'Kansas City Chiefs',\n",
    "        'las_vegas_raiders': 'Las Vegas Raiders',\n",
    "        'oakland_raiders': 'Las Vegas Raiders',\n",
    "        'los_angeles_chargers': 'Los Angeles Chargers',\n",
    "        'san_diego_chargers': 'Los Angeles Chargers',\n",
    "        'los_angeles_rams': 'Los Angeles Rams',\n",
    "        'st_louis_rams': 'Los Angeles Rams',\n",
    "        'miami_dolphins': 'Miami Dolphins',\n",
    "        'minnesota_vikings': 'Minnesota Vikings',\n",
    "        'new_england_patriots': 'New England Patriots',\n",
    "        'new_orleans_saints': 'New Orleans Saints',\n",
    "        'new_york_giants': 'New York Giants',\n",
    "        'new_york_jets': 'New York Jets',\n",
    "        'philadelphia_eagles': 'Philadelphia Eagles',\n",
    "        'pittsburgh_steelers': 'Pittsburgh Steelers',\n",
    "        'san_francisco_49ers': 'San Francisco 49ers',\n",
    "        'seattle_seahawks': 'Seattle Seahawks',\n",
    "        'tampa_bay_buccaneers': 'Tampa Bay Buccaneers',\n",
    "        'tennessee_titans': 'Tennessee Titans',\n",
    "        'washington_commanders': 'Washington Commanders',\n",
    "        'washington_football_team': 'Washington Commanders',\n",
    "        'washington_redskins': 'Washington Commanders'\n",
    "    }\n",
    "    \n",
    "    # Clean up the team name by removing any Madden-specific suffixes\n",
    "    cleaned_name = re.sub(r'__madden_nfl_\\d+_', '', team_name)\n",
    "    cleaned_name = re.sub(r'__madden_ratings_\\d+', '', cleaned_name)\n",
    "    cleaned_name = re.sub(r'_madden_\\d+', '', cleaned_name)\n",
    "    cleaned_name = re.sub(r'\\(madden_nfl_\\d+\\)', '', cleaned_name)\n",
    "    cleaned_name = cleaned_name.strip('_')\n",
    "    \n",
    "    return team_mapping.get(cleaned_name.lower(), cleaned_name)\n",
    "\n",
    "# Function to extract year from filename\n",
    "def extract_year_from_filename(filename):\n",
    "    # Try different patterns for year extraction\n",
    "    patterns = [\n",
    "        r'madden_(\\d+)_',  # Standard pattern: madden_19_team.xlsx or madden_15_arizona_cardinals\n",
    "        r'madden_nfl_(\\d+)_',  # Pattern: madden_nfl_24_team.xlsx\n",
    "        r'__madden_nfl_(\\d+)_',  # Pattern with double underscore\n",
    "        r'__madden_ratings_(\\d+)',  # Another possible pattern\n",
    "        r'\\(madden_nfl_(\\d+)\\)',  # Pattern with parentheses\n",
    "    ]\n",
    "    \n",
    "    for pattern in patterns:\n",
    "        match = re.search(pattern, filename)\n",
    "        if match:\n",
    "            year = int(match.group(1))\n",
    "            # Convert to full year (e.g., 15 -> 2015)\n",
    "            return 2000 + year if year < 100 else year\n",
    "    \n",
    "    return None\n",
    "\n",
    "# Function to extract team name from filename\n",
    "def extract_team_from_filename(filename):\n",
    "    # Try different patterns for team extraction\n",
    "    patterns = [\n",
    "        r'madden_\\d+_(.*?)\\.xlsx?',  # Standard pattern like madden_15_arizona_cardinals.xlsx\n",
    "        r'madden_nfl_\\d+_(.*?)\\.xlsx?',  # NFL pattern\n",
    "        r'(.*?)__madden_nfl_\\d+_\\.xlsx?',  # Pattern with team name first\n",
    "        r'(.*?)_\\(madden_nfl_\\d+\\)\\.xlsx?',  # Pattern with parentheses\n",
    "    ]\n",
    "    \n",
    "    for pattern in patterns:\n",
    "        match = re.search(pattern, filename)\n",
    "        if match:\n",
    "            team_name = match.group(1)\n",
    "            return team_name\n",
    "    return None\n",
    "\n",
    "# List to store all team data\n",
    "all_team_data = []\n",
    "\n",
    "# Process each Madden ratings file\n",
    "madden_dir = \"madden_ratings\"\n",
    "if os.path.exists(madden_dir):\n",
    "    for filename in os.listdir(madden_dir):\n",
    "        if filename.endswith(('.xlsx', '.xls')):\n",
    "            file_path = os.path.join(madden_dir, filename)\n",
    "            \n",
    "            # Extract year and team from filename\n",
    "            year = extract_year_from_filename(filename)\n",
    "            team_name = extract_team_from_filename(filename)\n",
    "            \n",
    "            if year and team_name:\n",
    "                # Skip Pro Bowl teams or other special teams\n",
    "                if 'pro_bowl' in team_name.lower():\n",
    "                    continue\n",
    "                \n",
    "                try:\n",
    "                    # Read the Excel file\n",
    "                    team_data = pd.read_excel(file_path, engine='openpyxl')\n",
    "                    \n",
    "                    # Create a new row for the DataFrame\n",
    "                    new_row = {col: None for col in df.columns}\n",
    "                    \n",
    "                    # Set team and year\n",
    "                    normalized_team_name = normalize_team_name(team_name)\n",
    "                    new_row['team_name'] = normalized_team_name\n",
    "                    new_row['year'] = year\n",
    "                    if year == 2015:\n",
    "                        print(f\"-- 2015 Team name: {normalized_team_name}\")\n",
    "                    \n",
    "                    # Find wins data for this team and year\n",
    "                    team_wins = wins_data[(wins_data['Team'] == normalized_team_name) & \n",
    "                                         (wins_data['Season'] == year)]\n",
    "                    \n",
    "                    if not team_wins.empty:\n",
    "                        new_row['regular_season_wins'] = team_wins.iloc[0]['Regular Season Wins']\n",
    "                        new_row['playoff_wins'] = team_wins.iloc[0]['Playoff Wins']\n",
    "                        new_row['total_wins'] = team_wins.iloc[0]['Total Wins']\n",
    "                    \n",
    "                    # Group players by position and sort by Overall rating\n",
    "                    position_players = {}\n",
    "                    \n",
    "                    for _, player in team_data.iterrows():\n",
    "                        # Check for different position column names\n",
    "                        position = None\n",
    "                        position_columns = ['Position', 'POSITION']\n",
    "                        \n",
    "                        for col in position_columns:\n",
    "                            if col in player and not pd.isna(player[col]):\n",
    "                                position = player[col]\n",
    "                                break\n",
    "                        \n",
    "                        # Skip rows without position information\n",
    "                        if position is None or pd.isna(position):\n",
    "                            continue\n",
    "                        \n",
    "                        # Check for various possible overall rating column names\n",
    "                        overall_value = None\n",
    "                        overall_columns = ['OVERALL RATING', 'OVR', 'Overall', 'Overall Rating', 'OverallRating']\n",
    "                        \n",
    "                        for col in overall_columns:\n",
    "                            if col in player and not pd.isna(player[col]):\n",
    "                                overall_value = player[col]\n",
    "                                break\n",
    "                        \n",
    "                        # Skip if no overall rating found\n",
    "                        if overall_value is None:\n",
    "                            continue\n",
    "                        \n",
    "                        if position not in position_players:\n",
    "                            position_players[position] = []\n",
    "                        \n",
    "                        position_players[position].append(overall_value)\n",
    "                    \n",
    "                    # Sort players by overall rating (highest first) for each position\n",
    "                    for position, ratings in position_players.items():\n",
    "                        sorted_ratings = sorted(ratings, reverse=True)\n",
    "                        \n",
    "                        # Assign ratings to position columns\n",
    "                        for i, rating in enumerate(sorted_ratings, 1):\n",
    "                            col_name = f\"{position}{i}\"\n",
    "                            if col_name in new_row:\n",
    "                                new_row[col_name] = rating\n",
    "                    \n",
    "                    all_team_data.append(new_row)\n",
    "                    \n",
    "                except Exception as e:\n",
    "                    print(f\"Error processing {filename}: {e}\")\n",
    "    \n",
    "    # Create DataFrame from all team data\n",
    "    team_df = pd.DataFrame(all_team_data)\n",
    "    \n",
    "    # Merge with the main DataFrame\n",
    "    #df = pd.concat([df, team_df], ignore_index=True)\n",
    "    df = team_df\n",
    "    \n",
    "    print(f\"Processed {len(all_team_data)} team files\")\n",
    "    print(f\"Final DataFrame has {len(df)} rows and {len(df.columns)} columns\")\n",
    "    \n",
    "    # Display a sample of the data\n",
    "    print(\"\\nSample of the populated DataFrame:\")\n",
    "    print(df[['team_name', 'year', 'regular_season_wins', 'total_wins']].head())\n",
    "else:\n",
    "    print(f\"Directory {madden_dir} not found. Please run the madden_script.py first to download the data.\")\n"
   ]
  },
  {
   "cell_type": "code",
   "execution_count": 8,
   "metadata": {},
   "outputs": [
    {
     "name": "stdout",
     "output_type": "stream",
     "text": [
      "Number of teams before filtering: 305\n",
      "Number of teams after filtering: 288\n",
      "\n",
      "Removed teams:\n",
      "- madden_nfl_19_-_full_player_ratings_1\n",
      "- madden_nfl_15_-_full_player_ratings\n",
      "- 2020_free_agent_frenzy_roster_3-31-2020\n",
      "- madden_nfl_21_final_ratings\n",
      "- madden_elites\n",
      "- madden_nfl_23_player_ratings\n",
      "- madden_nfl_20_-_full_player_ratings\n",
      "- madden_nfl_17_-_full_player_ratings\n",
      "- madden_nfl_22_final_roster\n",
      "- madden_nfl_21_-_full_player_ratings\n",
      "- madden_nfl_18_-_full_player_ratings\n",
      "- bleacher_report_goat_sim_roster\n",
      "- madden_legends\n",
      "- madden_nfl_21_-_full_rookies\n",
      "- maddennfl24fullplayerratings\n",
      "- madden_nfl_16_-_full_player_ratings\n",
      "- madden_nfl_20_final_ratings\n"
     ]
    }
   ],
   "source": [
    "test_df = df.copy()\n",
    "\n",
    "# Define the list of 32 NFL team names\n",
    "nfl_teams = [\n",
    "    'Arizona Cardinals', 'Atlanta Falcons', 'Baltimore Ravens', 'Buffalo Bills',\n",
    "    'Carolina Panthers', 'Chicago Bears', 'Cincinnati Bengals', 'Cleveland Browns',\n",
    "    'Dallas Cowboys', 'Denver Broncos', 'Detroit Lions', 'Green Bay Packers',\n",
    "    'Houston Texans', 'Indianapolis Colts', 'Jacksonville Jaguars', 'Kansas City Chiefs',\n",
    "    'Las Vegas Raiders', 'Los Angeles Chargers', 'Los Angeles Rams', 'Miami Dolphins',\n",
    "    'Minnesota Vikings', 'New England Patriots', 'New Orleans Saints', 'New York Giants',\n",
    "    'New York Jets', 'Philadelphia Eagles', 'Pittsburgh Steelers', 'San Francisco 49ers',\n",
    "    'Seattle Seahawks', 'Tampa Bay Buccaneers', 'Tennessee Titans', 'Washington Commanders'\n",
    "]\n",
    "\n",
    "# Print the number of teams before filtering\n",
    "print(f\"Number of teams before filtering: {len(df)}\")\n",
    "\n",
    "# Get the list of teams before filtering\n",
    "original_teams = set(df['team_name'].unique())\n",
    "\n",
    "# Create a mapping for team name corrections\n",
    "team_name_corrections = {\n",
    "    'jacksonville_jagaurs': 'Jacksonville Jaguars',\n",
    "    'washington_football': 'Washington Commanders'\n",
    "}\n",
    "\n",
    "# Apply team name corrections\n",
    "df['team_name'] = df['team_name'].replace(team_name_corrections)\n",
    "\n",
    "# Filter out teams that are not in the NFL teams list\n",
    "df_filtered = df[df['team_name'].isin(nfl_teams)]\n",
    "\n",
    "# Print the number of teams after filtering\n",
    "print(f\"Number of teams after filtering: {len(df_filtered)}\")\n",
    "\n",
    "# Find and print the removed teams\n",
    "removed_teams = set(df['team_name'].unique()) - set(nfl_teams)\n",
    "if len(removed_teams) > 0:\n",
    "    print(\"\\nRemoved teams:\")\n",
    "    for team in removed_teams:\n",
    "        print(f\"- {team}\")\n",
    "\n",
    "# Update the dataframe\n",
    "df = df_filtered\n"
   ]
  },
  {
   "cell_type": "code",
   "execution_count": 9,
   "metadata": {},
   "outputs": [
    {
     "name": "stdout",
     "output_type": "stream",
     "text": [
      "Number of entries per team:\n",
      "team_name\n",
      "Buffalo Bills            9\n",
      "New England Patriots     9\n",
      "Carolina Panthers        9\n",
      "Las Vegas Raiders        9\n",
      "Green Bay Packers        9\n",
      "Tampa Bay Buccaneers     9\n",
      "New York Jets            9\n",
      "Cincinnati Bengals       9\n",
      "San Francisco 49ers      9\n",
      "Atlanta Falcons          9\n",
      "Cleveland Browns         9\n",
      "Tennessee Titans         9\n",
      "Pittsburgh Steelers      9\n",
      "Los Angeles Chargers     9\n",
      "Minnesota Vikings        9\n",
      "Seattle Seahawks         9\n",
      "Los Angeles Rams         9\n",
      "Houston Texans           9\n",
      "New York Giants          9\n",
      "Dallas Cowboys           9\n",
      "Washington Commanders    9\n",
      "Miami Dolphins           9\n",
      "Jacksonville Jaguars     9\n",
      "Baltimore Ravens         9\n",
      "Chicago Bears            9\n",
      "New Orleans Saints       9\n",
      "Denver Broncos           9\n",
      "Arizona Cardinals        9\n",
      "Philadelphia Eagles      9\n",
      "Detroit Lions            9\n",
      "Kansas City Chiefs       9\n",
      "Indianapolis Colts       9\n",
      "Name: count, dtype: int64\n",
      "\n",
      "No teams with exactly 8 entries found.\n",
      "\n",
      "Dataset covers years from 2015 to 2024\n"
     ]
    }
   ],
   "source": [
    "# Check how many times each team appears in the dataset\n",
    "team_counts = df['team_name'].value_counts().sort_values(ascending=False)\n",
    "print(\"Number of entries per team:\")\n",
    "print(team_counts)\n",
    "\n",
    "# Find teams with 8 entries (one year might be missing)\n",
    "teams_with_8_entries = team_counts[team_counts == 8].index.tolist()\n",
    "if teams_with_8_entries:\n",
    "    print(f\"\\nTeams with 8 entries (potentially missing a year):\")\n",
    "    for team in teams_with_8_entries:\n",
    "        # Get the years for this team\n",
    "        team_years = df[df['team_name'] == team]['year'].sort_values().unique()\n",
    "        print(f\"\\n{team} appears in years: {', '.join(map(str, team_years))}\")\n",
    "        \n",
    "        # Find the missing year(s)\n",
    "        all_years = sorted(df['year'].unique())\n",
    "        missing_years = set(all_years) - set(team_years)\n",
    "        if missing_years:\n",
    "            print(f\"Missing year(s): {', '.join(map(str, sorted(missing_years)))}\")\n",
    "else:\n",
    "    print(\"\\nNo teams with exactly 8 entries found.\")\n",
    "\n",
    "# Print the range of years in the dataset for reference\n",
    "print(f\"\\nDataset covers years from {df['year'].min()} to {df['year'].max()}\")\n"
   ]
  },
  {
   "cell_type": "code",
   "execution_count": 10,
   "metadata": {},
   "outputs": [
    {
     "name": "stdout",
     "output_type": "stream",
     "text": [
      "\n",
      "Found 21 position types: C, CB, DT, FB, FS, HB, K, LE, LG, LOLB, LT, MLB, P, QB, RE, RG, ROLB, RT, SS, TE, WR\n",
      "\n",
      "Teams with all zeros for a position:\n",
      "Team: Green Bay Packers (2023) - Position: FB - All 4 slots are 0\n",
      "Team: New York Jets (2021) - Position: FB - All 4 slots are 0\n",
      "Team: Cincinnati Bengals (2024) - Position: FB - All 4 slots are 0\n",
      "Team: Tennessee Titans (2019) - Position: FB - All 4 slots are 0\n",
      "Team: New York Jets (2020) - Position: FB - All 4 slots are 0\n",
      "Team: Seattle Seahawks (2024) - Position: FB - All 4 slots are 0\n",
      "Team: Los Angeles Rams (2024) - Position: FB - All 4 slots are 0\n",
      "Team: Washington Commanders (2018) - Position: FB - All 4 slots are 0\n",
      "Team: Miami Dolphins (2019) - Position: FB - All 4 slots are 0\n",
      "Team: Jacksonville Jaguars (2023) - Position: FB - All 4 slots are 0\n",
      "Team: Cincinnati Bengals (2023) - Position: FB - All 4 slots are 0\n",
      "Team: Arizona Cardinals (2021) - Position: FB - All 4 slots are 0\n",
      "Team: Tampa Bay Buccaneers (2020) - Position: FB - All 4 slots are 0\n",
      "Team: Los Angeles Rams (2020) - Position: FB - All 4 slots are 0\n",
      "Team: Seattle Seahawks (2020) - Position: FB - All 4 slots are 0\n",
      "Team: Minnesota Vikings (2018) - Position: FB - All 4 slots are 0\n",
      "Team: Jacksonville Jaguars (2017) - Position: FB - All 4 slots are 0\n",
      "Team: Philadelphia Eagles (2021) - Position: FB - All 4 slots are 0\n",
      "Team: Indianapolis Colts (2017) - Position: FB - All 4 slots are 0\n",
      "Team: Philadelphia Eagles (2018) - Position: FB - All 4 slots are 0\n",
      "Team: New York Giants (2024) - Position: FB - All 4 slots are 0\n",
      "Team: Miami Dolphins (2017) - Position: FB - All 4 slots are 0\n",
      "Team: Washington Commanders (2021) - Position: FB - All 4 slots are 0\n",
      "Team: Los Angeles Rams (2021) - Position: FB - All 4 slots are 0\n",
      "Team: Arizona Cardinals (2018) - Position: FB - All 4 slots are 0\n",
      "Team: Tampa Bay Buccaneers (2021) - Position: FB - All 4 slots are 0\n",
      "Team: Arizona Cardinals (2024) - Position: FB - All 4 slots are 0\n",
      "Team: Los Angeles Rams (2019) - Position: FB - All 4 slots are 0\n",
      "Team: Philadelphia Eagles (2019) - Position: P - All 3 slots are 0\n",
      "Team: Philadelphia Eagles (2019) - Position: FB - All 4 slots are 0\n",
      "Team: Philadelphia Eagles (2023) - Position: FB - All 4 slots are 0\n",
      "Team: Philadelphia Eagles (2024) - Position: FB - All 4 slots are 0\n",
      "Team: Arizona Cardinals (2020) - Position: FB - All 4 slots are 0\n",
      "Team: Philadelphia Eagles (2017) - Position: FB - All 4 slots are 0\n",
      "Team: Tennessee Titans (2024) - Position: FB - All 4 slots are 0\n",
      "Team: Arizona Cardinals (2017) - Position: FB - All 4 slots are 0\n",
      "Team: Philadelphia Eagles (2020) - Position: FB - All 4 slots are 0\n",
      "Team: Tennessee Titans (2020) - Position: FB - All 4 slots are 0\n",
      "Team: Tampa Bay Buccaneers (2024) - Position: FB - All 4 slots are 0\n",
      "Team: Indianapolis Colts (2019) - Position: FB - All 4 slots are 0\n",
      "Team: Indianapolis Colts (2020) - Position: FB - All 4 slots are 0\n",
      "Team: Jacksonville Jaguars (2021) - Position: FB - All 4 slots are 0\n",
      "Team: New England Patriots (2024) - Position: FB - All 4 slots are 0\n",
      "Team: Tampa Bay Buccaneers (2017) - Position: FB - All 4 slots are 0\n",
      "Team: Arizona Cardinals (2023) - Position: FB - All 4 slots are 0\n",
      "Team: Miami Dolphins (2018) - Position: FB - All 4 slots are 0\n",
      "Team: Pittsburgh Steelers (2024) - Position: FB - All 4 slots are 0\n",
      "Team: Detroit Lions (2018) - Position: FB - All 4 slots are 0\n",
      "Team: Indianapolis Colts (2023) - Position: FB - All 4 slots are 0\n",
      "Team: Cleveland Browns (2020) - Position: FB - All 4 slots are 0\n",
      "Team: Seattle Seahawks (2017) - Position: FB - All 4 slots are 0\n",
      "Team: New England Patriots (2023) - Position: FB - All 4 slots are 0\n",
      "Team: Denver Broncos (2021) - Position: FB - All 4 slots are 0\n",
      "Team: Washington Commanders (2017) - Position: FB - All 4 slots are 0\n",
      "Team: Tampa Bay Buccaneers (2023) - Position: FB - All 4 slots are 0\n",
      "Team: Chicago Bears (2021) - Position: FB - All 4 slots are 0\n",
      "Team: Indianapolis Colts (2018) - Position: FB - All 4 slots are 0\n",
      "Team: Kansas City Chiefs (2024) - Position: FB - All 4 slots are 0\n",
      "Team: Jacksonville Jaguars (2020) - Position: FB - All 4 slots are 0\n",
      "Team: Cleveland Browns (2024) - Position: FB - All 4 slots are 0\n",
      "Team: Washington Commanders (2019) - Position: FB - All 4 slots are 0\n",
      "Team: Indianapolis Colts (2024) - Position: FB - All 4 slots are 0\n",
      "Team: Chicago Bears (2020) - Position: FB - All 4 slots are 0\n",
      "\n",
      "Summary of teams with empty positions:\n",
      "FB: 62 teams\n",
      "P: 1 teams\n",
      "\n",
      "Total teams with at least one empty position: 62\n"
     ]
    }
   ],
   "source": [
    "# Fill NaN values with 0\n",
    "df = df.fillna(0)\n",
    "\n",
    "# Print the DataFrame after filling NaN values\n",
    "# print(\"DataFrame after filling NaN values with 0:\")\n",
    "# print(df.head())\n",
    "\n",
    "# Get all position columns (like QB1, QB2, etc.)\n",
    "position_prefixes = set()\n",
    "for col in df.columns:\n",
    "    # Extract position prefix (e.g., 'QB' from 'QB1')\n",
    "    match = re.match(r'([A-Z]+)[0-9]+', col)\n",
    "    if match:\n",
    "        position_prefixes.add(match.group(1))\n",
    "\n",
    "print(f\"\\nFound {len(position_prefixes)} position types: {', '.join(sorted(position_prefixes))}\")\n",
    "\n",
    "# Find teams with all zeros for a given position\n",
    "print(\"\\nTeams with all zeros for a position:\")\n",
    "# Counter to track how many teams have empty positions\n",
    "empty_position_counts = {prefix: 0 for prefix in position_prefixes}\n",
    "\n",
    "for team_idx, team_row in df.iterrows():\n",
    "    team_name = team_row['team_name']\n",
    "    year = team_row['year']\n",
    "    \n",
    "    for prefix in position_prefixes:\n",
    "        # Get all columns for this position\n",
    "        pos_cols = [col for col in df.columns if re.match(f'{prefix}[0-9]+', col)]\n",
    "        \n",
    "        if not pos_cols:\n",
    "            continue\n",
    "            \n",
    "        # Check if all values for this position are 0\n",
    "        if all(team_row[col] == 0 for col in pos_cols):\n",
    "            print(f\"Team: {team_name} ({year}) - Position: {prefix} - All {len(pos_cols)} slots are 0\")\n",
    "            empty_position_counts[prefix] += 1\n",
    "\n",
    "# Print summary of teams with empty positions\n",
    "print(\"\\nSummary of teams with empty positions:\")\n",
    "for prefix, count in sorted(empty_position_counts.items(), key=lambda x: x[1], reverse=True):\n",
    "    if count > 0:\n",
    "        print(f\"{prefix}: {count} teams\")\n",
    "\n",
    "print(f\"\\nTotal teams with at least one empty position: {sum(1 for _, team_row in df.iterrows() if any(all(team_row[col] == 0 for col in [c for c in df.columns if re.match(f'{prefix}[0-9]+', c)]) for prefix in position_prefixes))}\")"
   ]
  },
  {
   "cell_type": "code",
   "execution_count": 12,
   "metadata": {},
   "outputs": [
    {
     "name": "stdout",
     "output_type": "stream",
     "text": [
      "\n",
      "DataFrame exported to ../../data/madden_data_processed.xlsx\n"
     ]
    }
   ],
   "source": [
    "# Export DataFrame to Excel for inspection\n",
    "output_path = \"../../data/madden_data_processed.xlsx\"\n",
    "df.to_excel(output_path, index=False)\n",
    "print(f\"\\nDataFrame exported to {output_path}\")\n"
   ]
  }
 ],
 "metadata": {
  "kernelspec": {
   "display_name": "base",
   "language": "python",
   "name": "python3"
  },
  "language_info": {
   "codemirror_mode": {
    "name": "ipython",
    "version": 3
   },
   "file_extension": ".py",
   "mimetype": "text/x-python",
   "name": "python",
   "nbconvert_exporter": "python",
   "pygments_lexer": "ipython3",
   "version": "3.11.11"
  }
 },
 "nbformat": 4,
 "nbformat_minor": 2
}
