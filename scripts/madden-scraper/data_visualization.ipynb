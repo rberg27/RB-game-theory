{
 "cells": [
  {
   "cell_type": "code",
   "execution_count": 20,
   "metadata": {},
   "outputs": [
    {
     "name": "stdout",
     "output_type": "stream",
     "text": [
      "No position column found in madden_21_nfc_pro_bowl__madden_nfl_21_.xlsx\n"
     ]
    },
    {
     "name": "stderr",
     "output_type": "stream",
     "text": [
      "/Users/ryanbergmac/anaconda3/lib/python3.11/site-packages/openpyxl/worksheet/_read_only.py:85: UserWarning: Unknown extension is not supported and will be removed\n",
      "  for idx, row in parser.parse():\n"
     ]
    },
    {
     "name": "stdout",
     "output_type": "stream",
     "text": [
      "No position column found in madden_19_madden_elites__madden_nfl_19_.xlsx\n"
     ]
    },
    {
     "name": "stderr",
     "output_type": "stream",
     "text": [
      "/Users/ryanbergmac/anaconda3/lib/python3.11/site-packages/openpyxl/worksheet/_read_only.py:85: UserWarning: Unknown extension is not supported and will be removed\n",
      "  for idx, row in parser.parse():\n"
     ]
    },
    {
     "name": "stdout",
     "output_type": "stream",
     "text": [
      "No position column found in madden_20_nfc_pro_bowl__madden_nfl_20_.xlsx\n",
      "No position column found in madden_15_pro_bowl_irvin.xlsx\n"
     ]
    },
    {
     "name": "stderr",
     "output_type": "stream",
     "text": [
      "/Users/ryanbergmac/anaconda3/lib/python3.11/site-packages/openpyxl/worksheet/_read_only.py:85: UserWarning: Unknown extension is not supported and will be removed\n",
      "  for idx, row in parser.parse():\n",
      "/Users/ryanbergmac/anaconda3/lib/python3.11/site-packages/openpyxl/worksheet/_read_only.py:85: UserWarning: Unknown extension is not supported and will be removed\n",
      "  for idx, row in parser.parse():\n"
     ]
    },
    {
     "name": "stdout",
     "output_type": "stream",
     "text": [
      "No position column found in madden_17_afc_pro_bowl__madden_nfl_17_.xlsx\n",
      "No position column found in madden_19_nfc_pro_bowl__madden_nfl_19_.xlsx\n"
     ]
    },
    {
     "name": "stderr",
     "output_type": "stream",
     "text": [
      "/Users/ryanbergmac/anaconda3/lib/python3.11/site-packages/openpyxl/worksheet/_read_only.py:85: UserWarning: Unknown extension is not supported and will be removed\n",
      "  for idx, row in parser.parse():\n",
      "/Users/ryanbergmac/anaconda3/lib/python3.11/site-packages/openpyxl/worksheet/_read_only.py:85: UserWarning: Unknown extension is not supported and will be removed\n",
      "  for idx, row in parser.parse():\n",
      "/Users/ryanbergmac/anaconda3/lib/python3.11/site-packages/openpyxl/worksheet/_read_only.py:85: UserWarning: Unknown extension is not supported and will be removed\n",
      "  for idx, row in parser.parse():\n",
      "/Users/ryanbergmac/anaconda3/lib/python3.11/site-packages/openpyxl/worksheet/_read_only.py:85: UserWarning: Unknown extension is not supported and will be removed\n",
      "  for idx, row in parser.parse():\n",
      "/Users/ryanbergmac/anaconda3/lib/python3.11/site-packages/openpyxl/worksheet/_read_only.py:85: UserWarning: Unknown extension is not supported and will be removed\n",
      "  for idx, row in parser.parse():\n",
      "/Users/ryanbergmac/anaconda3/lib/python3.11/site-packages/openpyxl/worksheet/_read_only.py:85: UserWarning: Unknown extension is not supported and will be removed\n",
      "  for idx, row in parser.parse():\n",
      "/Users/ryanbergmac/anaconda3/lib/python3.11/site-packages/openpyxl/worksheet/_read_only.py:85: UserWarning: Unknown extension is not supported and will be removed\n",
      "  for idx, row in parser.parse():\n",
      "/Users/ryanbergmac/anaconda3/lib/python3.11/site-packages/openpyxl/worksheet/_read_only.py:85: UserWarning: Unknown extension is not supported and will be removed\n",
      "  for idx, row in parser.parse():\n",
      "/Users/ryanbergmac/anaconda3/lib/python3.11/site-packages/openpyxl/worksheet/_read_only.py:85: UserWarning: Unknown extension is not supported and will be removed\n",
      "  for idx, row in parser.parse():\n",
      "/Users/ryanbergmac/anaconda3/lib/python3.11/site-packages/openpyxl/worksheet/_read_only.py:85: UserWarning: Unknown extension is not supported and will be removed\n",
      "  for idx, row in parser.parse():\n",
      "/Users/ryanbergmac/anaconda3/lib/python3.11/site-packages/openpyxl/worksheet/_read_only.py:85: UserWarning: Unknown extension is not supported and will be removed\n",
      "  for idx, row in parser.parse():\n",
      "/Users/ryanbergmac/anaconda3/lib/python3.11/site-packages/openpyxl/worksheet/_read_only.py:85: UserWarning: Unknown extension is not supported and will be removed\n",
      "  for idx, row in parser.parse():\n",
      "/Users/ryanbergmac/anaconda3/lib/python3.11/site-packages/openpyxl/worksheet/_read_only.py:85: UserWarning: Unknown extension is not supported and will be removed\n",
      "  for idx, row in parser.parse():\n",
      "/Users/ryanbergmac/anaconda3/lib/python3.11/site-packages/openpyxl/worksheet/_read_only.py:85: UserWarning: Unknown extension is not supported and will be removed\n",
      "  for idx, row in parser.parse():\n"
     ]
    },
    {
     "name": "stdout",
     "output_type": "stream",
     "text": [
      "No position column found in madden_20_2020_free_agent_frenzy_roster_3-31-2020.xlsx\n"
     ]
    },
    {
     "name": "stderr",
     "output_type": "stream",
     "text": [
      "/Users/ryanbergmac/anaconda3/lib/python3.11/site-packages/openpyxl/worksheet/_read_only.py:85: UserWarning: Unknown extension is not supported and will be removed\n",
      "  for idx, row in parser.parse():\n",
      "/Users/ryanbergmac/anaconda3/lib/python3.11/site-packages/openpyxl/worksheet/_read_only.py:85: UserWarning: Unknown extension is not supported and will be removed\n",
      "  for idx, row in parser.parse():\n"
     ]
    },
    {
     "name": "stdout",
     "output_type": "stream",
     "text": [
      "No position column found in madden_21_afc_pro_bowl__madden_nfl_21_.xlsx\n",
      "No position column found in madden_19_madden_legends__madden_nfl_19_.xlsx\n"
     ]
    },
    {
     "name": "stderr",
     "output_type": "stream",
     "text": [
      "/Users/ryanbergmac/anaconda3/lib/python3.11/site-packages/openpyxl/worksheet/_read_only.py:85: UserWarning: Unknown extension is not supported and will be removed\n",
      "  for idx, row in parser.parse():\n",
      "/Users/ryanbergmac/anaconda3/lib/python3.11/site-packages/openpyxl/worksheet/_read_only.py:85: UserWarning: Unknown extension is not supported and will be removed\n",
      "  for idx, row in parser.parse():\n"
     ]
    },
    {
     "name": "stdout",
     "output_type": "stream",
     "text": [
      "No position column found in madden_20_afc_pro_bowl__madden_nfl_20_.xlsx\n"
     ]
    },
    {
     "name": "stderr",
     "output_type": "stream",
     "text": [
      "/Users/ryanbergmac/anaconda3/lib/python3.11/site-packages/openpyxl/worksheet/_read_only.py:85: UserWarning: Unknown extension is not supported and will be removed\n",
      "  for idx, row in parser.parse():\n",
      "/Users/ryanbergmac/anaconda3/lib/python3.11/site-packages/openpyxl/worksheet/_read_only.py:85: UserWarning: Unknown extension is not supported and will be removed\n",
      "  for idx, row in parser.parse():\n"
     ]
    },
    {
     "name": "stdout",
     "output_type": "stream",
     "text": [
      "No position column found in madden_15_pro_bowl_carter.xlsx\n"
     ]
    },
    {
     "name": "stderr",
     "output_type": "stream",
     "text": [
      "/Users/ryanbergmac/anaconda3/lib/python3.11/site-packages/openpyxl/worksheet/_read_only.py:85: UserWarning: Unknown extension is not supported and will be removed\n",
      "  for idx, row in parser.parse():\n"
     ]
    },
    {
     "name": "stdout",
     "output_type": "stream",
     "text": [
      "No position column found in madden_19_afc_pro_bowl__madden_nfl_19_.xlsx\n",
      "No position column found in madden_17_nfc_pro_bowl__madden_nfl_17_.xlsx\n"
     ]
    },
    {
     "name": "stderr",
     "output_type": "stream",
     "text": [
      "/Users/ryanbergmac/anaconda3/lib/python3.11/site-packages/openpyxl/worksheet/_read_only.py:85: UserWarning: Unknown extension is not supported and will be removed\n",
      "  for idx, row in parser.parse():\n"
     ]
    },
    {
     "name": "stdout",
     "output_type": "stream",
     "text": [
      "No position column found in madden_20_bleacher_report_goat_sim_roster.xlsx\n"
     ]
    },
    {
     "name": "stderr",
     "output_type": "stream",
     "text": [
      "/Users/ryanbergmac/anaconda3/lib/python3.11/site-packages/openpyxl/worksheet/_read_only.py:85: UserWarning: Unknown extension is not supported and will be removed\n",
      "  for idx, row in parser.parse():\n",
      "/Users/ryanbergmac/anaconda3/lib/python3.11/site-packages/openpyxl/worksheet/_read_only.py:85: UserWarning: Unknown extension is not supported and will be removed\n",
      "  for idx, row in parser.parse():\n",
      "/Users/ryanbergmac/anaconda3/lib/python3.11/site-packages/openpyxl/worksheet/_read_only.py:85: UserWarning: Unknown extension is not supported and will be removed\n",
      "  for idx, row in parser.parse():\n",
      "/Users/ryanbergmac/anaconda3/lib/python3.11/site-packages/openpyxl/worksheet/_read_only.py:85: UserWarning: Unknown extension is not supported and will be removed\n",
      "  for idx, row in parser.parse():\n",
      "/Users/ryanbergmac/anaconda3/lib/python3.11/site-packages/openpyxl/worksheet/_read_only.py:85: UserWarning: Unknown extension is not supported and will be removed\n",
      "  for idx, row in parser.parse():\n"
     ]
    },
    {
     "name": "stdout",
     "output_type": "stream",
     "text": [
      "Processed 288 team files\n",
      "Found 21 unique positions: ['C', 'CB', 'DT', 'FB', 'FS', 'HB', 'K', 'LE', 'LG', 'LOLB', 'LT', 'MLB', 'P', 'QB', 'RE', 'RG', 'ROLB', 'RT', 'SS', 'TE', 'WR']\n",
      "\n",
      "Example data for buffalo_bills__madden_nfl_24__24:\n",
      "{'team': 'buffalo_bills__madden_nfl_24_', 'year': '24', 'positions': {'WR': 8, 'CB': 8, 'DT': 7, 'TE': 5, 'FS': 5, 'HB': 4, 'LE': 4, 'RG': 3, 'SS': 3, 'LG': 3, 'RT': 3, 'MLB': 3, 'ROLB': 3, 'QB': 3, 'RE': 3, 'C': 2, 'LOLB': 2, 'LT': 2, 'P': 1, 'K': 1, 'FB': 1}}\n"
     ]
    }
   ],
   "source": [
    "import pandas as pd\n",
    "import os\n",
    "import glob\n",
    "from collections import defaultdict\n",
    "\n",
    "def get_position_counts():\n",
    "    # Path to the madden_ratings directory\n",
    "    ratings_dir = \"madden_ratings\"\n",
    "    \n",
    "    # Check if directory exists\n",
    "    if not os.path.exists(ratings_dir):\n",
    "        print(f\"Error: {ratings_dir} directory not found\")\n",
    "        return None\n",
    "    \n",
    "    # Find all Excel files in the directory\n",
    "    excel_files = glob.glob(os.path.join(ratings_dir, \"*.xls*\"))\n",
    "    \n",
    "    if not excel_files:\n",
    "        print(f\"No Excel files found in {ratings_dir}\")\n",
    "        return None\n",
    "    \n",
    "    # Dictionary to store team data with position counts\n",
    "    team_position_data = {}\n",
    "    # Set to track all unique positions across all files\n",
    "    all_positions = set()\n",
    "    \n",
    "    # Process each file\n",
    "    for file_path in excel_files:\n",
    "        try:\n",
    "            # Extract year and team from filename\n",
    "            filename = os.path.basename(file_path)\n",
    "            \n",
    "            # Skip files that contain \"full\" or \"final\" ratings\n",
    "            if any(term in filename.lower() for term in [\"full\", \"final\"]):\n",
    "                continue\n",
    "                \n",
    "            parts = filename.replace('.xlsx', '').replace('.xls', '').split('_')\n",
    "            \n",
    "            if len(parts) >= 3 and parts[0] == 'madden':\n",
    "                year = parts[1]\n",
    "                team = '_'.join(parts[2:])\n",
    "                \n",
    "                # Read the Excel file\n",
    "                df = pd.read_excel(file_path)\n",
    "                \n",
    "                # Find position column (could be named differently in different files)\n",
    "                position_cols = [col for col in df.columns if col in ['POSITION', 'Position', 'position', 'Pos', 'POS']]\n",
    "                \n",
    "                if position_cols:\n",
    "                    pos_column = position_cols[0]\n",
    "                    \n",
    "                    # Count positions\n",
    "                    position_counts = df[pos_column].value_counts().to_dict()\n",
    "                    \n",
    "                    # Add positions to the set of all positions\n",
    "                    all_positions.update(position_counts.keys())\n",
    "                    \n",
    "                    # Store data for this team\n",
    "                    team_key = f\"{team}_{year}\"\n",
    "                    team_position_data[team_key] = {\n",
    "                        'team': team,\n",
    "                        'year': year,\n",
    "                        'positions': position_counts\n",
    "                    }\n",
    "                else:\n",
    "                    print(f\"No position column found in {filename}\")\n",
    "            \n",
    "        except Exception as e:\n",
    "            print(f\"Error processing {file_path}: {str(e)}\")\n",
    "    \n",
    "    return team_position_data, all_positions\n",
    "\n",
    "# Run the function to get position data\n",
    "team_data, unique_positions = get_position_counts()\n",
    "\n",
    "# Print summary\n",
    "if team_data:\n",
    "    print(f\"Processed {len(team_data)} team files\")\n",
    "    print(f\"Found {len(unique_positions)} unique positions: {sorted(unique_positions)}\")\n",
    "    \n",
    "    # Print example of one team's data\n",
    "    example_team = next(iter(team_data))\n",
    "    print(f\"\\nExample data for {example_team}:\")\n",
    "    print(team_data[example_team])\n"
   ]
  },
  {
   "cell_type": "code",
   "execution_count": 21,
   "metadata": {},
   "outputs": [
    {
     "name": "stdout",
     "output_type": "stream",
     "text": [
      "{'LG', 'LT', 'P', 'WR', 'QB', 'TE', 'LOLB', 'HB', 'FS', 'ROLB', 'DT', 'MLB', 'RT', 'C', 'LE', 'K', 'CB', 'RG', 'SS', 'FB', 'RE'}\n",
      "288\n",
      "Original unique positions: 21\n",
      "Cleaned unique positions: 21\n",
      "\n",
      "Cleaned positions:\n",
      "['C', 'CB', 'DT', 'FB', 'FS', 'HB', 'K', 'LE', 'LG', 'LOLB', 'LT', 'MLB', 'P', 'QB', 'RE', 'RG', 'ROLB', 'RT', 'SS', 'TE', 'WR']\n",
      "\n",
      "Examples of position cleaning:\n"
     ]
    }
   ],
   "source": [
    "import re\n",
    "print(unique_positions)\n",
    "print(len(team_data))\n",
    "\n",
    "# Clean position names by removing text in parentheses\n",
    "cleaned_positions = set()\n",
    "for position in unique_positions:\n",
    "    # Check if position is a string (some might be NaN or other types)\n",
    "    if isinstance(position, str):\n",
    "        # Remove text in parentheses\n",
    "        cleaned_position = re.sub(r'\\s*\\([^)]*\\)', '', position).strip()\n",
    "        cleaned_positions.add(cleaned_position)\n",
    "    else:\n",
    "        # Keep non-string values as is\n",
    "        cleaned_positions.add(position)\n",
    "\n",
    "# Remove any empty strings that might have been created\n",
    "if '' in cleaned_positions:\n",
    "    cleaned_positions.remove('')\n",
    "\n",
    "print(f\"Original unique positions: {len(unique_positions)}\")\n",
    "print(f\"Cleaned unique positions: {len(cleaned_positions)}\")\n",
    "print(\"\\nCleaned positions:\")\n",
    "print(sorted(cleaned_positions))\n",
    "\n",
    "# Create a mapping from original positions to cleaned positions\n",
    "position_mapping = {}\n",
    "for position in unique_positions:\n",
    "    if isinstance(position, str):\n",
    "        cleaned_position = re.sub(r'\\s*\\([^)]*\\)', '', position).strip()\n",
    "        position_mapping[position] = cleaned_position\n",
    "\n",
    "# Print some examples of the cleaning\n",
    "print(\"\\nExamples of position cleaning:\")\n",
    "examples = [pos for pos in unique_positions if isinstance(pos, str) and '(' in pos][:10]  # Show up to 10 examples\n",
    "for original in examples:\n",
    "    print(f\"  {original} -> {position_mapping[original]}\")\n"
   ]
  },
  {
   "cell_type": "code",
   "execution_count": 22,
   "metadata": {},
   "outputs": [
    {
     "name": "stdout",
     "output_type": "stream",
     "text": [
      "dict_keys(['buffalo_bills__madden_nfl_24__24', 'new_england_patriots__madden_nfl_19__19', 'carolina_panthers__madden_nfl_20__20', 'oakland_raiders__madden_nfl_18__18', 'buffalo_bills__madden_nfl_17__17', 'green_bay_packers__madden_nfl_23__23', 'tampa_bay_buccaneers_15', 'new_york_jets__madden_nfl_21__21', 'cincinnati_bengals__madden_nfl_24__24', 'san_francisco_49ers_(madden_nfl_16)_16', 'atlanta_falcons__madden_nfl_21__21', 'cleveland_browns__madden_nfl_17__17', 'buffalo_bills__madden_nfl_18__18', 'san_francisco_49ers_15', 'tampa_bay_buccaneers__madden_nfl_19__19', 'tennessee_titans__madden_nfl_19__19', 'green_bay_packers__madden_nfl_19__19', 'pittsburgh_steelers__madden_nfl_21__21', 'cincinnati_bengals__madden_nfl_18__18', 'cincinnati_bengals__madden_nfl_21__21', 'buffalo_bills__madden_nfl_23__23', 'los_angeles_chargers__madden_nfl_20__20', 'minnesota_vikings__madden_nfl_21__21', 'new_york_jets__madden_nfl_20__20', 'seattle_seahawks__madden_nfl_24__24', 'los_angeles_rams__madden_nfl_24__24', 'oakland_raiders_(madden_nfl_16)_16', 'madden_nfl_23_player_ratings_23', 'houston_texans__madden_nfl_19__19', 'new_york_giants__madden_nfl_19__19', 'dallas_cowboys__madden_nfl_24__24', 'new_york_giants__madden_nfl_23__23', 'dallas_cowboys__madden_nfl_17__17', 'buffalo_bills__madden_nfl_19__19', 'dallas_cowboys__madden_nfl_21__21', 'washington_redskins__madden_nfl_18__18', 'miami_dolphins__madden_nfl_19__19', 'cleveland_browns_(madden_nfl_16)_16', 'jacksonville_jaguars__madden_nfl_23__23', 'baltimore_ravens__madden_nfl_21__21', 'chicago_bears_(madden_nfl_16)_16', 'pittsburgh_steelers__madden_nfl_18__18', 'oakland_raiders__madden_nfl_17__17', 'carolina_panthers_15', 'las_vegas_raiders__madden_nfl_21__21', 'cincinnati_bengals__madden_nfl_23__23', 'new_orleans_saints_15', 'denver_broncos__madden_nfl_20__20', 'new_orleans_saints__madden_nfl_19__19', 'new_orleans_saints__madden_nfl_20__20', 'cleveland_browns__madden_nfl_18__18', 'new_england_patriots__madden_nfl_20__20', 'chicago_bears_15', 'arizona_cardinals__madden_nfl_21__21', 'baltimore_ravens__madden_nfl_23__23', 'philadelphia_eagles_(madden_nfl_16)_16', 'los_angeles_chargers__madden_nfl_19__19', 'carolina_panthers__madden_nfl_17__17', 'tampa_bay_buccaneers__madden_nfl_20__20', 'los_angeles_rams__madden_nfl_20__20', 'seattle_seahawks__madden_nfl_20__20', 'tennessee_titans_15', 'seattle_seahawks_15', 'los_angeles_chargers__madden_nfl_21__21', 'arizona_cardinals_(madden_nfl_16)_16', 'tampa_bay_buccaneers__madden_nfl_18__18', 'detroit_lions__madden_nfl_20__20', 'washington_redskins_(madden_nfl_16)_16', 'denver_broncos__madden_nfl_18__18', 'cincinnati_bengals__madden_nfl_20__20', 'cincinnati_bengals__madden_nfl_19__19', 'minnesota_vikings__madden_nfl_18__18', 'jacksonville_jagaurs__madden_nfl_17__17', 'philadelphia_eagles__madden_nfl_21__21', 'new_york_giants__madden_nfl_17__17', 'new_england_patriots__madden_nfl_18__18', 'kansas_city_chiefs_(madden_nfl_16)_16', 'detroit_lions__madden_nfl_21__21', 'carolina_panthers__madden_nfl_23__23', 'philadelphia_eagles_15', 'kansas_city_chiefs__madden_nfl_17__17', 'green_bay_packers__madden_nfl_20__20', 'minnesota_vikings__madden_nfl_24__24', 'tennessee_titans__madden_nfl_18__18', 'denver_broncos__madden_nfl_23__23', 'new_orleans_saints__madden_nfl_23__23', 'carolina_panthers__madden_nfl_19__19', 'indianapolis_colts__madden_nfl_17__17', 'indianapolis_colts_(madden_nfl_16)_16', 'buffalo_bills_(madden_nfl_16)_16', 'new_england_patriots_15', 'baltimore_ravens__madden_nfl_24__24', 'san_francisco_49ers__madden_nfl_18__18', 'washington_commanders__madden_nfl_24__24', 'houston_texans__madden_nfl_17__17', 'houston_texans__madden_nfl_21__21', 'philadelphia_eagles__madden_nfl_18__18', 'miami_dolphins__madden_nfl_24__24', 'buffalo_bills_15', 'chicago_bears__madden_nfl_19__19', 'houston_texans_15', 'minnesota_vikings_(madden_nfl_16)_16', 'oakland_raiders_15', 'cleveland_browns__madden_nfl_19__19', 'dallas_cowboys__madden_nfl_19__19', 'new_york_giants__madden_nfl_24__24', 'las_vegas_raiders__madden_nfl_24__24', 'new_york_giants__madden_nfl_18__18', 'miami_dolphins__madden_nfl_17__17', 'miami_dolphins__madden_nfl_21__21', 'washington_football__madden_nfl_21__21', 'houston_texans__madden_nfl_24__24', 'tennessee_titans__madden_nfl_17__17', 'seattle_seahawks__madden_nfl_21__21', 'los_angeles_rams__madden_nfl_21__21', 'arizona_cardinals__madden_nfl_18__18', 'indianapolis_colts_15', 'green_bay_packers__madden_nfl_17__17', 'tampa_bay_buccaneers__madden_nfl_21__21', 'chicago_bears__madden_nfl_18__18', 'new_orleans_saints__madden_nfl_24__24', 'san_francisco_49ers__madden_nfl_21__21', 'baltimore_ravens__madden_nfl_20__20', 'tennessee_titans_(madden_nfl_16)_16', 'jacksonville_jaguars_(madden_nfl_16)_16', 'los_angeles_chargers__madden_nfl_18__18', 'arizona_cardinals__madden_nfl_24__24', 'chicago_bears__madden_nfl_23__23', 'san_diego_chargers_15', 'minnesota_vikings_15', 'chicago_bears__madden_nfl_24__24', 'new_york_giants_(madden_nfl_16)_16', 'new_orleans_saints__madden_nfl_21__21', 'new_orleans_saints__madden_nfl_18__18', 'los_angeles_rams__madden_nfl_23__23', 'atlanta_falcons__madden_nfl_20__20', 'chicago_bears__madden_nfl_17__17', 'new_england_patriots__madden_nfl_21__21', 'cleveland_browns_15', 'seattle_seahawks__madden_nfl_23__23', 'jacksonville_jaguars__madden_nfl_24__24', 'denver_broncos_(madden_nfl_16)_16', 'pittsburgh_steelers_(madden_nfl_16)_16', 'oakland_raiders__madden_nfl_19__19', 'kansas_city_chiefs_15', 'los_angeles_rams__madden_nfl_19__19', 'new_york_giants_15', 'seattle_seahawks__madden_nfl_19__19', 'buffalo_bills__madden_nfl_20__20', 'philadelphia_eagles__madden_nfl_19__19', 'green_bay_packers_(madden_nfl_16)_16', 'philadelphia_eagles__madden_nfl_23__23', 'los_angeles_chargers__madden_nfl_24__24', 'jacksonville_jaguars__madden_nfl_18__18', 'cleveland_browns__madden_nfl_21__21', 'atlanta_falcons__madden_nfl_24__24', 'atlanta_falcons__madden_nfl_18__18', 'philadelphia_eagles__madden_nfl_24__24', 'minnesota_vikings__madden_nfl_17__17', 'new_york_jets__madden_nfl_19__19', 'dallas_cowboys_(madden_nfl_16)_16', 'new_york_jets_15', 'new_york_jets__madden_nfl_24__24', 'new_york_jets__madden_nfl_17__17', 'dallas_cowboys_15', 'arizona_cardinals_15', 'san_francisco_49ers__madden_nfl_20__20', 'arizona_cardinals__madden_nfl_20__20', 'buffalo_bills__madden_nfl_21__21', 'philadelphia_eagles__madden_nfl_17__17', 'new_york_jets__madden_nfl_18__18', 'new_york_giants__madden_nfl_20__20', 'tennessee_titans__madden_nfl_24__24', 'detroit_lions_(madden_nfl_16)_16', 'atlanta_falcons_(madden_nfl_16)_16', 'denver_broncos__madden_nfl_19__19', 'cleveland_browns__madden_nfl_23__23', 'baltimore_ravens_15', 'baltimore_ravens__madden_nfl_18__18', 'new_york_jets__madden_nfl_23__23', 'carolina_panthers__madden_nfl_21__21', 'jacksonville_jaguars_15', 'atlanta_falcons_15', 'cincinnati_bengals_(madden_nfl_16)_16', 'cincinnati_bengals__madden_nfl_17__17', 'arizona_cardinals__madden_nfl_17__17', 'san_francisco_49ers__madden_nfl_17__17', 'philadelphia_eagles__madden_nfl_20__20', 'green_bay_packers__madden_nfl_18__18', 'atlanta_falcons__madden_nfl_17__17', 'dallas_cowboys__madden_nfl_23__23', 'baltimore_ravens__madden_nfl_17__17', 'green_bay_packers_15', 'dallas_cowboys__madden_nfl_18__18', 'minnesota_vikings__madden_nfl_20__20', 'green_bay_packers__madden_nfl_24__24', 'miami_dolphins__madden_nfl_20__20', 'kansas_city_chiefs__madden_nfl_19__19', 'kansas_city_chiefs__madden_nfl_20__20', 'new_england_patriots_(madden_nfl_16)_16', 'san_francisco_49ers__madden_nfl_24__24', 'baltimore_ravens_(madden_nfl_16)_16', 'tennessee_titans__madden_nfl_20__20', 'new_england_patriots__madden_nfl_17__17', 'tampa_bay_buccaneers__madden_nfl_24__24', 'washington_commanders__madden_nfl_23__23', 'houston_texans__madden_nfl_20__20', 'indianapolis_colts__madden_nfl_19__19', 'san_diego_chargers__madden_nfl_17__17', 'tampa_bay_buccaneers_(madden_nfl_16)_16', 'indianapolis_colts__madden_nfl_20__20', 'san_francisco_49ers__madden_nfl_19__19', 'san_francisco_49ers__madden_nfl_23__23', 'san_diego_chargers_(madden_nfl_16)_16', 'jacksonville_jaguars__madden_nfl_21__21', 'new_england_patriots__madden_nfl_24__24', 'tampa_bay_buccaneers__madden_nfl_17__17', 'pittsburgh_steelers__madden_nfl_19__19', 'pittsburgh_steelers__madden_nfl_23__23', 'miami_dolphins_15', 'detroit_lions__madden_nfl_17__17', 'arizona_cardinals__madden_nfl_23__23', 'dallas_cowboys__madden_nfl_20__20', 'miami_dolphins__madden_nfl_18__18', 'detroit_lions__madden_nfl_24__24', 'jacksonville_jaguars__madden_nfl_19__19', 'detroit_lions__madden_nfl_23__23', 'pittsburgh_steelers__madden_nfl_24__24', 'houston_texans__madden_nfl_18__18', 'new_york_jets_(madden_nfl_16)_16', 'arizona_cardinals__madden_nfl_19__19', 'baltimore_ravens__madden_nfl_19__19', 'detroit_lions__madden_nfl_18__18', 'pittsburgh_steelers_15', 'houston_texans__madden_nfl_23__23', 'indianapolis_colts__madden_nfl_23__23', 'new_orleans_saints__madden_nfl_17__17', 'seattle_seahawks__madden_nfl_18__18', 'new_orleans_saints_(madden_nfl_16)_16', 'los_angeles_rams__madden_nfl_18__18', 'pittsburgh_steelers__madden_nfl_17__17', 'st_louis_rams_16', 'denver_broncos_15', 'cincinnati_bengals_15', 'washington_redskins__madden_nfl_20__20', 'carolina_panthers_(madden_nfl_16)_16', 'miami_dolphins__madden_nfl_23__23', 'cleveland_browns__madden_nfl_20__20', 'kansas_city_chiefs__madden_nfl_23__23', 'detroit_lions__madden_nfl_19__19', 'las_vegas_raiders__madden_nfl_23__23', 'detroit_lions_15', 'los_angeles_chargers__madden_nfl_23__23', 'los_angeles_rams__madden_nfl_17__17', 'seattle_seahawks__madden_nfl_17__17', 'minnesota_vikings__madden_nfl_23__23', 'denver_broncos__madden_nfl_24__24', 'carolina_panthers__madden_nfl_24__24', 'new_york_giants__madden_nfl_21__21', 'new_england_patriots__madden_nfl_23__23', 'tennessee_titans__madden_nfl_21__21', 'minnesota_vikings__madden_nfl_19__19', 'denver_broncos__madden_nfl_21__21', 'denver_broncos__madden_nfl_17__17', 'washington_redskins__madden_nfl_17__17', 'tampa_bay_buccaneers__madden_nfl_23__23', 'pittsburgh_steelers__madden_nfl_20__20', 'chicago_bears__madden_nfl_21__21', 'st_louis_rams_15', 'indianapolis_colts__madden_nfl_21__21', 'tennessee_titans__madden_nfl_23__23', 'indianapolis_colts__madden_nfl_18__18', 'kansas_city_chiefs__madden_nfl_24__24', 'jacksonville_jaguars__madden_nfl_20__20', 'houston_texans_(madden_nfl_16)_16', 'green_bay_packers__madden_nfl_21__21', 'oakland_raiders__madden_nfl_20__20', 'cleveland_browns__madden_nfl_24__24', 'atlanta_falcons__madden_nfl_19__19', 'washington_redskins__madden_nfl_19__19', 'seattle_seahawks_(madden_nfl_16)_16', 'indianapolis_colts__madden_nfl_24__24', 'carolina_panthers__madden_nfl_18__18', 'kansas_city_chiefs__madden_nfl_21__21', 'chicago_bears__madden_nfl_20__20', 'kansas_city_chiefs__madden_nfl_18__18', 'miami_dolphins_(madden_nfl_16)_16', 'atlanta_falcons__madden_nfl_23__23'])\n",
      "{'team': 'buffalo_bills__madden_nfl_17_', 'year': '17', 'positions': {'WR': 10, 'CB': 8, 'DT': 6, 'TE': 5, 'SS': 5, 'HB': 5, 'RE': 3, 'QB': 3, 'MLB': 3, 'C': 3, 'LOLB': 3, 'LE': 3, 'FS': 3, 'LG': 2, 'K': 2, 'RG': 2, 'ROLB': 2, 'RT': 2, 'LT': 2, 'P': 1, 'FB': 1}}\n"
     ]
    }
   ],
   "source": [
    "print(team_data.keys())\n",
    "print(team_data[\"buffalo_bills__madden_nfl_17__17\"])"
   ]
  },
  {
   "cell_type": "code",
   "execution_count": null,
   "metadata": {},
   "outputs": [
    {
     "name": "stdout",
     "output_type": "stream",
     "text": [
      "\n",
      "Teams with the most players in each position:\n",
      "C: madden_nfl_23_player_ratings_23 with 76 players\n",
      "CB: madden_nfl_23_player_ratings_23 with 279 players\n",
      "DT: madden_nfl_23_player_ratings_23 with 133 players\n",
      "FB: madden_nfl_23_player_ratings_23 with 28 players\n",
      "FS: madden_nfl_23_player_ratings_23 with 95 players\n",
      "HB: madden_nfl_23_player_ratings_23 with 166 players\n",
      "K: madden_nfl_23_player_ratings_23 with 40 players\n",
      "LE: madden_nfl_23_player_ratings_23 with 101 players\n",
      "LG: madden_nfl_23_player_ratings_23 with 75 players\n",
      "LOLB: madden_nfl_23_player_ratings_23 with 97 players\n",
      "LT: madden_nfl_23_player_ratings_23 with 81 players\n",
      "MLB: madden_nfl_23_player_ratings_23 with 142 players\n",
      "P: madden_nfl_23_player_ratings_23 with 36 players\n",
      "QB: madden_nfl_23_player_ratings_23 with 103 players\n",
      "RE: madden_nfl_23_player_ratings_23 with 99 players\n",
      "RG: madden_nfl_23_player_ratings_23 with 77 players\n",
      "ROLB: madden_nfl_23_player_ratings_23 with 89 players\n",
      "RT: madden_nfl_23_player_ratings_23 with 85 players\n",
      "SS: madden_nfl_23_player_ratings_23 with 94 players\n",
      "TE: madden_nfl_23_player_ratings_23 with 186 players\n",
      "WR: madden_nfl_23_player_ratings_23 with 286 players\n"
     ]
    },
    {
     "data": {
      "image/png": "[encoded data removed]",
      "text/plain": [
       "<Figure size 1200x600 with 1 Axes>"
      ]
     },
     "metadata": {},
     "output_type": "display_data"
    },
    {
     "name": "stdout",
     "output_type": "stream",
     "text": [
      "\n",
      "Statistics on position maximum counts:\n",
      "Average maximum count: 112.76\n",
      "Highest maximum count: 286\n",
      "Lowest maximum count: 28\n"
     ]
    }
   ],
   "source": [
    "# Analyze position data across teams\n",
    "import pandas as pd\n",
    "import matplotlib.pyplot as plt\n",
    "from collections import defaultdict\n",
    "\n",
    "# Dictionary to store position counts for each team\n",
    "position_team_counts = defaultdict(lambda: defaultdict(int))\n",
    "\n",
    "# Process each team's data\n",
    "for team_name, team_data_dict in team_data.items():\n",
    "    if \"player_ratings\" in team_name:\n",
    "        continue\n",
    "    # Check if the team data has a 'positions' dictionary\n",
    "    if 'positions' in team_data_dict:\n",
    "        positions = team_data_dict['positions']\n",
    "        if positions:  # Check if the positions dictionary is not empty\n",
    "            # Clean the positions using our position_mapping\n",
    "            for position, count in positions.items():\n",
    "                cleaned_position = position\n",
    "                if isinstance(position, str) and position in position_mapping:\n",
    "                    cleaned_position = position_mapping[position]\n",
    "                # Update the count for this team and position\n",
    "                position_team_counts[cleaned_position][team_name] += count\n",
    "\n",
    "# Find the team with the most players for each position\n",
    "position_max_teams = {}\n",
    "position_max_counts = {}\n",
    "\n",
    "for position, team_counts in position_team_counts.items():\n",
    "    max_team = max(team_counts.items(), key=lambda x: x[1], default=(None, 0))\n",
    "    if max_team[0]:  # If we found a team\n",
    "        position_max_teams[position] = max_team[0]\n",
    "        position_max_counts[position] = max_team[1]\n",
    "\n",
    "# Display results\n",
    "print(\"\\nTeams with the most players in each position:\")\n",
    "for position in sorted(position_max_teams.keys()):\n",
    "    team = position_max_teams[position]\n",
    "    count = position_max_counts[position]\n",
    "    print(f\"{position}: {team} with {count} players\")\n",
    "\n",
    "# Visualize the distribution of maximum positions\n",
    "if position_max_counts:\n",
    "    # Sort positions by their maximum counts\n",
    "    sorted_positions = sorted(position_max_counts.items(), key=lambda x: x[1], reverse=True)\n",
    "    \n",
    "    # Create a bar chart\n",
    "    plt.figure(figsize=(12, 6))\n",
    "    positions = [pos for pos, _ in sorted_positions]\n",
    "    counts = [count for _, count in sorted_positions]\n",
    "    \n",
    "    plt.bar(positions, counts)\n",
    "    plt.xlabel('Position')\n",
    "    plt.ylabel('Maximum Number of Players')\n",
    "    plt.title('Maximum Number of Players in Each Position by Team')\n",
    "    plt.xticks(rotation=45, ha='right')\n",
    "    plt.tight_layout()\n",
    "    plt.show()\n",
    "    \n",
    "    # Calculate and display some statistics\n",
    "    all_max_counts = list(position_max_counts.values())\n",
    "    avg_max_count = sum(all_max_counts) / len(all_max_counts)\n",
    "    max_max_count = max(all_max_counts)\n",
    "    min_max_count = min(all_max_counts)\n",
    "    \n",
    "    print(f\"\\nStatistics on position maximum counts:\")\n",
    "    print(f\"Average maximum count: {avg_max_count:.2f}\")\n",
    "    print(f\"Highest maximum count: {max_max_count}\")\n",
    "    print(f\"Lowest maximum count: {min_max_count}\")\n"
   ]
  },
  {
   "cell_type": "code",
   "execution_count": 3,
   "metadata": {},
   "outputs": [
    {
     "name": "stdout",
     "output_type": "stream",
     "text": [
      "Found 357 Excel files to analyze\n",
      "Warning: No position column found in madden_24_buffalo_bills__madden_nfl_24_.xlsx\n",
      "Warning: No position column found in madden_19_new_england_patriots__madden_nfl_19_.xlsx\n",
      "Warning: No position column found in madden_20_carolina_panthers__madden_nfl_20_.xlsx\n",
      "Warning: No position column found in madden_18_oakland_raiders__madden_nfl_18_.xlsx\n",
      "Warning: No position column found in madden_21_nfc_pro_bowl__madden_nfl_21_.xlsx\n",
      "Warning: No position column found in madden_17_buffalo_bills__madden_nfl_17_.xlsx\n",
      "Warning: No position column found in madden_23_green_bay_packers__madden_nfl_23_.xlsx\n",
      "Warning: No position column found in madden_16_irvin__pro_bowl_.xlsx\n",
      "Warning: No position column found in madden_16_update_15_-_week_14.xlsx\n"
     ]
    },
    {
     "name": "stderr",
     "output_type": "stream",
     "text": [
      "/Users/ryanbergmac/anaconda3/lib/python3.11/site-packages/openpyxl/worksheet/_read_only.py:85: UserWarning: Unknown extension is not supported and will be removed\n",
      "  for idx, row in parser.parse():\n",
      "/Users/ryanbergmac/anaconda3/lib/python3.11/site-packages/openpyxl/worksheet/_read_only.py:85: UserWarning: Unknown extension is not supported and will be removed\n",
      "  for idx, row in parser.parse():\n"
     ]
    },
    {
     "name": "stdout",
     "output_type": "stream",
     "text": [
      "Warning: No position column found in madden_21_new_york_jets__madden_nfl_21_.xlsx\n",
      "Warning: No position column found in madden_24_cincinnati_bengals__madden_nfl_24_.xlsx\n",
      "Warning: No position column found in madden_16_san_francisco_49ers_(madden_nfl_16).xlsx\n",
      "Warning: No position column found in madden_21_atlanta_falcons__madden_nfl_21_.xlsx\n",
      "Warning: No position column found in madden_15_update_15_week_15.xlsx\n",
      "Warning: No position column found in madden_17_cleveland_browns__madden_nfl_17_.xlsx\n",
      "Warning: No position column found in madden_18_buffalo_bills__madden_nfl_18_.xlsx\n",
      "Warning: No position column found in madden_19_madden_elites__madden_nfl_19_.xlsx\n",
      "Warning: No position column found in madden_20_madden_nfl_20_-_full_player_ratings.xlsx\n",
      "Warning: No position column found in madden_19_tampa_bay_buccaneers__madden_nfl_19_.xlsx\n",
      "Warning: No position column found in madden_19_tennessee_titans__madden_nfl_19_.xlsx\n"
     ]
    },
    {
     "name": "stderr",
     "output_type": "stream",
     "text": [
      "/Users/ryanbergmac/anaconda3/lib/python3.11/site-packages/openpyxl/worksheet/_read_only.py:85: UserWarning: Unknown extension is not supported and will be removed\n",
      "  for idx, row in parser.parse():\n"
     ]
    },
    {
     "name": "stdout",
     "output_type": "stream",
     "text": [
      "Warning: No position column found in madden_19_green_bay_packers__madden_nfl_19_.xlsx\n",
      "Warning: No position column found in madden_21_pittsburgh_steelers__madden_nfl_21_.xlsx\n",
      "Warning: No position column found in madden_18_cincinnati_bengals__madden_nfl_18_.xlsx\n",
      "Warning: No position column found in madden_21_cincinnati_bengals__madden_nfl_21_.xlsx\n",
      "Warning: No position column found in madden_23_buffalo_bills__madden_nfl_23_.xlsx\n",
      "Warning: No position column found in madden_20_los_angeles_chargers__madden_nfl_20_.xlsx\n",
      "Warning: No position column found in madden_21_minnesota_vikings__madden_nfl_21_.xlsx\n",
      "Warning: No position column found in madden_20_new_york_jets__madden_nfl_20_.xlsx\n",
      "Warning: No position column found in madden_20_nfc_pro_bowl__madden_nfl_20_.xlsx\n",
      "Warning: No position column found in madden_24_seattle_seahawks__madden_nfl_24_.xlsx\n",
      "Warning: No position column found in madden_24_los_angeles_rams__madden_nfl_24_.xlsx\n",
      "Warning: No position column found in madden_16_oakland_raiders_(madden_nfl_16).xlsx\n",
      "Warning: No position column found in madden_15_update_14_week_14.xlsx\n",
      "Warning: No position column found in madden_23_madden_nfl_23_player_ratings.xlsx\n",
      "Warning: No position column found in madden_19_houston_texans__madden_nfl_19_.xlsx\n",
      "Warning: No position column found in madden_19_new_york_giants__madden_nfl_19_.xlsx\n",
      "Warning: No position column found in madden_24_dallas_cowboys__madden_nfl_24_.xlsx\n",
      "Warning: No position column found in madden_23_new_york_giants__madden_nfl_23_.xlsx\n",
      "Warning: No position column found in madden_17_dallas_cowboys__madden_nfl_17_.xlsx\n",
      "Warning: No position column found in madden_19_buffalo_bills__madden_nfl_19_.xlsx\n",
      "Warning: No position column found in madden_21_dallas_cowboys__madden_nfl_21_.xlsx\n",
      "Warning: No position column found in madden_18_washington_redskins__madden_nfl_18_.xlsx\n",
      "Warning: No position column found in madden_19_miami_dolphins__madden_nfl_19_.xlsx\n",
      "Warning: No position column found in madden_16_cleveland_browns_(madden_nfl_16).xlsx\n",
      "Warning: No position column found in madden_23_jacksonville_jaguars__madden_nfl_23_.xlsx\n",
      "Warning: No position column found in madden_21_baltimore_ravens__madden_nfl_21_.xlsx\n",
      "Warning: No position column found in madden_15_update_17_wild_card_and_divisonal_weekend.xlsx\n",
      "Warning: No position column found in madden_15_pro_bowl_irvin.xlsx\n",
      "Warning: No position column found in madden_16_chicago_bears_(madden_nfl_16).xlsx\n",
      "Warning: No position column found in madden_20_madden_nfl_20_final_ratings.xlsx\n",
      "Warning: No position column found in madden_18_pittsburgh_steelers__madden_nfl_18_.xlsx\n",
      "Warning: No position column found in madden_17_oakland_raiders__madden_nfl_17_.xlsx\n",
      "Warning: No position column found in madden_17_madden_nfl_17_-_full_player_ratings.xlsx\n",
      "Warning: No position column found in madden_15_update_18_conference_championship_weekend.xlsx\n",
      "Warning: No position column found in madden_21_las_vegas_raiders__madden_nfl_21_.xlsx\n"
     ]
    },
    {
     "name": "stderr",
     "output_type": "stream",
     "text": [
      "/Users/ryanbergmac/anaconda3/lib/python3.11/site-packages/openpyxl/worksheet/_read_only.py:85: UserWarning: Unknown extension is not supported and will be removed\n",
      "  for idx, row in parser.parse():\n"
     ]
    },
    {
     "name": "stdout",
     "output_type": "stream",
     "text": [
      "Warning: No position column found in madden_24_maddennfl24fullplayerratings.xlsx\n",
      "Warning: No position column found in madden_23_cincinnati_bengals__madden_nfl_23_.xlsx\n",
      "Warning: No position column found in madden_20_denver_broncos__madden_nfl_20_.xlsx\n"
     ]
    },
    {
     "name": "stderr",
     "output_type": "stream",
     "text": [
      "/Users/ryanbergmac/anaconda3/lib/python3.11/site-packages/openpyxl/worksheet/_read_only.py:85: UserWarning: Unknown extension is not supported and will be removed\n",
      "  for idx, row in parser.parse():\n"
     ]
    },
    {
     "name": "stdout",
     "output_type": "stream",
     "text": [
      "Warning: No position column found in madden_19_new_orleans_saints__madden_nfl_19_.xlsx\n",
      "Warning: No position column found in madden_20_new_orleans_saints__madden_nfl_20_.xlsx\n",
      "Warning: No position column found in madden_18_cleveland_browns__madden_nfl_18_.xlsx\n",
      "Warning: No position column found in madden_20_new_england_patriots__madden_nfl_20_.xlsx\n",
      "Warning: No position column found in madden_17_afc_pro_bowl__madden_nfl_17_.xlsx\n"
     ]
    },
    {
     "name": "stderr",
     "output_type": "stream",
     "text": [
      "/Users/ryanbergmac/anaconda3/lib/python3.11/site-packages/openpyxl/worksheet/_read_only.py:85: UserWarning: Unknown extension is not supported and will be removed\n",
      "  for idx, row in parser.parse():\n"
     ]
    },
    {
     "name": "stdout",
     "output_type": "stream",
     "text": [
      "Warning: No position column found in madden_21_arizona_cardinals__madden_nfl_21_.xlsx\n",
      "Warning: No position column found in madden_23_baltimore_ravens__madden_nfl_23_.xlsx\n",
      "Warning: No position column found in madden_19_nfc_pro_bowl__madden_nfl_19_.xlsx\n",
      "Warning: No position column found in madden_15_madden_nfl_15_-_full_player_ratings.xlsx\n",
      "Warning: No position column found in madden_16_philadelphia_eagles_(madden_nfl_16).xlsx\n",
      "Warning: No position column found in madden_15_update_16_week_16.xlsx\n",
      "Warning: No position column found in madden_19_los_angeles_chargers__madden_nfl_19_.xlsx\n",
      "Warning: No position column found in madden_17_carolina_panthers__madden_nfl_17_.xlsx\n",
      "Warning: No position column found in madden_20_tampa_bay_buccaneers__madden_nfl_20_.xlsx\n",
      "Warning: No position column found in madden_20_los_angeles_rams__madden_nfl_20_.xlsx\n",
      "Warning: No position column found in madden_20_seattle_seahawks__madden_nfl_20_.xlsx\n"
     ]
    },
    {
     "name": "stderr",
     "output_type": "stream",
     "text": [
      "/Users/ryanbergmac/anaconda3/lib/python3.11/site-packages/openpyxl/worksheet/_read_only.py:85: UserWarning: Unknown extension is not supported and will be removed\n",
      "  for idx, row in parser.parse():\n",
      "/Users/ryanbergmac/anaconda3/lib/python3.11/site-packages/openpyxl/worksheet/_read_only.py:85: UserWarning: Unknown extension is not supported and will be removed\n",
      "  for idx, row in parser.parse():\n"
     ]
    },
    {
     "name": "stdout",
     "output_type": "stream",
     "text": [
      "Warning: No position column found in madden_21_los_angeles_chargers__madden_nfl_21_.xlsx\n",
      "Warning: No position column found in madden_15_update_10_week_10.xlsx\n",
      "Warning: No position column found in madden_16_arizona_cardinals_(madden_nfl_16).xlsx\n",
      "Warning: No position column found in madden_18_tampa_bay_buccaneers__madden_nfl_18_.xlsx\n",
      "Warning: No position column found in madden_15_update_4_week_4.xlsx\n",
      "Warning: No position column found in madden_20_detroit_lions__madden_nfl_20_.xlsx\n",
      "Warning: No position column found in madden_16_washington_redskins_(madden_nfl_16).xlsx\n",
      "Warning: No position column found in madden_18_denver_broncos__madden_nfl_18_.xlsx\n",
      "Warning: No position column found in madden_20_cincinnati_bengals__madden_nfl_20_.xlsx\n",
      "Warning: No position column found in madden_19_cincinnati_bengals__madden_nfl_19_.xlsx\n",
      "Warning: No position column found in madden_18_minnesota_vikings__madden_nfl_18_.xlsx\n",
      "Warning: No position column found in madden_16_update_3_-_week_2.xlsx\n",
      "Warning: No position column found in madden_17_jacksonville_jagaurs__madden_nfl_17_.xlsx\n",
      "Warning: No position column found in madden_15_update_6_week_6.xlsx\n",
      "Warning: No position column found in madden_21_philadelphia_eagles__madden_nfl_21_.xlsx\n",
      "Warning: No position column found in madden_17_new_york_giants__madden_nfl_17_.xlsx\n",
      "Warning: No position column found in madden_16_update_4_-_week_3.xlsx\n",
      "Warning: No position column found in madden_18_new_england_patriots__madden_nfl_18_.xlsx\n",
      "Warning: No position column found in madden_16_kansas_city_chiefs_(madden_nfl_16).xlsx\n",
      "Warning: No position column found in madden_21_detroit_lions__madden_nfl_21_.xlsx\n",
      "Warning: No position column found in madden_16_update_14_-_week_13.xlsx\n",
      "Warning: No position column found in madden_23_carolina_panthers__madden_nfl_23_.xlsx\n",
      "Warning: No position column found in madden_17_kansas_city_chiefs__madden_nfl_17_.xlsx\n"
     ]
    },
    {
     "name": "stderr",
     "output_type": "stream",
     "text": [
      "/Users/ryanbergmac/anaconda3/lib/python3.11/site-packages/openpyxl/worksheet/_read_only.py:85: UserWarning: Unknown extension is not supported and will be removed\n",
      "  for idx, row in parser.parse():\n"
     ]
    },
    {
     "name": "stdout",
     "output_type": "stream",
     "text": [
      "Warning: No position column found in madden_20_green_bay_packers__madden_nfl_20_.xlsx\n",
      "Warning: No position column found in madden_24_minnesota_vikings__madden_nfl_24_.xlsx\n",
      "Warning: No position column found in madden_15_update_11_week_11.xlsx\n",
      "Warning: No position column found in madden_16_update_2_-_week_1.xlsx\n",
      "Warning: No position column found in madden_18_tennessee_titans__madden_nfl_18_.xlsx\n",
      "Warning: No position column found in madden_23_denver_broncos__madden_nfl_23_.xlsx\n",
      "Warning: No position column found in madden_23_new_orleans_saints__madden_nfl_23_.xlsx\n",
      "Warning: No position column found in madden_19_carolina_panthers__madden_nfl_19_.xlsx\n",
      "Warning: No position column found in madden_17_indianapolis_colts__madden_nfl_17_.xlsx\n",
      "Warning: No position column found in madden_16_indianapolis_colts_(madden_nfl_16).xlsx\n",
      "Warning: No position column found in madden_16_buffalo_bills_(madden_nfl_16).xlsx\n"
     ]
    },
    {
     "name": "stderr",
     "output_type": "stream",
     "text": [
      "/Users/ryanbergmac/anaconda3/lib/python3.11/site-packages/openpyxl/worksheet/_read_only.py:85: UserWarning: Unknown extension is not supported and will be removed\n",
      "  for idx, row in parser.parse():\n"
     ]
    },
    {
     "name": "stdout",
     "output_type": "stream",
     "text": [
      "Warning: No position column found in madden_15_update_2_week_2.xlsx\n",
      "Warning: No position column found in madden_24_baltimore_ravens__madden_nfl_24_.xlsx\n",
      "Warning: No position column found in madden_18_san_francisco_49ers__madden_nfl_18_.xlsx\n",
      "Warning: No position column found in madden_24_washington_commanders__madden_nfl_24_.xlsx\n",
      "Warning: No position column found in madden_17_houston_texans__madden_nfl_17_.xlsx\n",
      "Warning: No position column found in madden_21_houston_texans__madden_nfl_21_.xlsx\n",
      "Warning: No position column found in madden_18_philadelphia_eagles__madden_nfl_18_.xlsx\n",
      "Warning: No position column found in madden_24_miami_dolphins__madden_nfl_24_.xlsx\n"
     ]
    },
    {
     "name": "stderr",
     "output_type": "stream",
     "text": [
      "/Users/ryanbergmac/anaconda3/lib/python3.11/site-packages/openpyxl/worksheet/_read_only.py:85: UserWarning: Unknown extension is not supported and will be removed\n",
      "  for idx, row in parser.parse():\n",
      "/Users/ryanbergmac/anaconda3/lib/python3.11/site-packages/openpyxl/worksheet/_read_only.py:85: UserWarning: Unknown extension is not supported and will be removed\n",
      "  for idx, row in parser.parse():\n",
      "/Users/ryanbergmac/anaconda3/lib/python3.11/site-packages/openpyxl/worksheet/_read_only.py:85: UserWarning: Unknown extension is not supported and will be removed\n",
      "  for idx, row in parser.parse():\n"
     ]
    },
    {
     "name": "stdout",
     "output_type": "stream",
     "text": [
      "Warning: No position column found in madden_19_chicago_bears__madden_nfl_19_.xlsx\n",
      "Warning: No position column found in madden_16_minnesota_vikings_(madden_nfl_16).xlsx\n",
      "Warning: No position column found in madden_19_cleveland_browns__madden_nfl_19_.xlsx\n",
      "Warning: No position column found in madden_19_dallas_cowboys__madden_nfl_19_.xlsx\n",
      "Warning: No position column found in madden_24_new_york_giants__madden_nfl_24_.xlsx\n",
      "Warning: No position column found in madden_24_las_vegas_raiders__madden_nfl_24_.xlsx\n",
      "Warning: No position column found in madden_18_new_york_giants__madden_nfl_18_.xlsx\n",
      "Warning: No position column found in madden_17_miami_dolphins__madden_nfl_17_.xlsx\n",
      "Warning: No position column found in madden_21_miami_dolphins__madden_nfl_21_.xlsx\n",
      "Warning: No position column found in madden_15_update_12_week_12.xlsx\n",
      "Warning: No position column found in madden_21_washington_football__madden_nfl_21_.xlsx\n",
      "Warning: No position column found in madden_24_houston_texans__madden_nfl_24_.xlsx\n",
      "Warning: No position column found in madden_17_tennessee_titans__madden_nfl_17_.xlsx\n",
      "Warning: No position column found in madden_21_seattle_seahawks__madden_nfl_21_.xlsx\n",
      "Warning: No position column found in madden_21_los_angeles_rams__madden_nfl_21_.xlsx\n",
      "Warning: No position column found in madden_18_arizona_cardinals__madden_nfl_18_.xlsx\n",
      "Warning: No position column found in madden_17_green_bay_packers__madden_nfl_17_.xlsx\n",
      "Warning: No position column found in madden_16_update_10_-_week_9.xlsx\n"
     ]
    },
    {
     "name": "stderr",
     "output_type": "stream",
     "text": [
      "/Users/ryanbergmac/anaconda3/lib/python3.11/site-packages/openpyxl/worksheet/_read_only.py:85: UserWarning: Unknown extension is not supported and will be removed\n",
      "  for idx, row in parser.parse():\n"
     ]
    },
    {
     "name": "stdout",
     "output_type": "stream",
     "text": [
      "Warning: No position column found in madden_21_tampa_bay_buccaneers__madden_nfl_21_.xlsx\n",
      "Warning: No position column found in madden_18_chicago_bears__madden_nfl_18_.xlsx\n",
      "Warning: No position column found in madden_16_update_20_-_super_bowl.xlsx\n",
      "Warning: No position column found in madden_24_new_orleans_saints__madden_nfl_24_.xlsx\n",
      "Warning: No position column found in madden_15_update_8_week_8.xlsx\n",
      "Warning: No position column found in madden_21_san_francisco_49ers__madden_nfl_21_.xlsx\n",
      "Warning: No position column found in madden_20_baltimore_ravens__madden_nfl_20_.xlsx\n",
      "Warning: No position column found in madden_16_tennessee_titans_(madden_nfl_16).xlsx\n",
      "Warning: No position column found in madden_16_update_9_-_week_8.xlsx\n",
      "Warning: No position column found in madden_16_jacksonville_jaguars_(madden_nfl_16).xlsx\n",
      "Warning: No position column found in madden_18_los_angeles_chargers__madden_nfl_18_.xlsx\n",
      "Warning: No position column found in madden_24_arizona_cardinals__madden_nfl_24_.xlsx\n",
      "Warning: No position column found in madden_23_chicago_bears__madden_nfl_23_.xlsx\n",
      "Warning: No position column found in madden_16_update_16_-_week_15.xlsx\n"
     ]
    },
    {
     "name": "stderr",
     "output_type": "stream",
     "text": [
      "/Users/ryanbergmac/anaconda3/lib/python3.11/site-packages/openpyxl/worksheet/_read_only.py:85: UserWarning: Unknown extension is not supported and will be removed\n",
      "  for idx, row in parser.parse():\n",
      "/Users/ryanbergmac/anaconda3/lib/python3.11/site-packages/openpyxl/worksheet/_read_only.py:85: UserWarning: Unknown extension is not supported and will be removed\n",
      "  for idx, row in parser.parse():\n"
     ]
    },
    {
     "name": "stdout",
     "output_type": "stream",
     "text": [
      "Warning: No position column found in madden_24_chicago_bears__madden_nfl_24_.xlsx\n",
      "Warning: No position column found in madden_16_new_york_giants_(madden_nfl_16).xlsx\n",
      "Warning: No position column found in madden_21_new_orleans_saints__madden_nfl_21_.xlsx\n",
      "Warning: No position column found in madden_18_new_orleans_saints__madden_nfl_18_.xlsx\n",
      "Warning: No position column found in madden_23_los_angeles_rams__madden_nfl_23_.xlsx\n",
      "Warning: No position column found in madden_20_atlanta_falcons__madden_nfl_20_.xlsx\n",
      "Warning: No position column found in madden_17_chicago_bears__madden_nfl_17_.xlsx\n",
      "Warning: No position column found in madden_16_update_19_-_week_19.xlsx\n",
      "Warning: No position column found in madden_21_new_england_patriots__madden_nfl_21_.xlsx\n",
      "Warning: No position column found in madden_23_seattle_seahawks__madden_nfl_23_.xlsx\n",
      "Warning: No position column found in madden_24_jacksonville_jaguars__madden_nfl_24_.xlsx\n"
     ]
    },
    {
     "name": "stderr",
     "output_type": "stream",
     "text": [
      "/Users/ryanbergmac/anaconda3/lib/python3.11/site-packages/openpyxl/worksheet/_read_only.py:85: UserWarning: Unknown extension is not supported and will be removed\n",
      "  for idx, row in parser.parse():\n"
     ]
    },
    {
     "name": "stdout",
     "output_type": "stream",
     "text": [
      "Warning: No position column found in madden_16_denver_broncos_(madden_nfl_16).xlsx\n",
      "Warning: No position column found in madden_16_update_13_-_week_12.xlsx\n",
      "Warning: No position column found in madden_16_update_8_-_week_7.xlsx\n",
      "Warning: No position column found in madden_16_pittsburgh_steelers_(madden_nfl_16).xlsx\n",
      "Warning: No position column found in madden_16_update_18_-_week_18.xlsx\n",
      "Warning: No position column found in madden_19_oakland_raiders__madden_nfl_19_.xlsx\n",
      "Warning: No position column found in madden_15_update_13_week_13.xlsx\n",
      "Warning: No position column found in madden_21_madden_nfl_21_final_ratings.xlsx\n"
     ]
    },
    {
     "name": "stderr",
     "output_type": "stream",
     "text": [
      "/Users/ryanbergmac/anaconda3/lib/python3.11/site-packages/openpyxl/worksheet/_read_only.py:85: UserWarning: Unknown extension is not supported and will be removed\n",
      "  for idx, row in parser.parse():\n",
      "/Users/ryanbergmac/anaconda3/lib/python3.11/site-packages/openpyxl/worksheet/_read_only.py:85: UserWarning: Unknown extension is not supported and will be removed\n",
      "  for idx, row in parser.parse():\n"
     ]
    },
    {
     "name": "stdout",
     "output_type": "stream",
     "text": [
      "Warning: No position column found in madden_19_los_angeles_rams__madden_nfl_19_.xlsx\n",
      "Warning: No position column found in madden_19_seattle_seahawks__madden_nfl_19_.xlsx\n",
      "Warning: No position column found in madden_20_buffalo_bills__madden_nfl_20_.xlsx\n",
      "Warning: No position column found in madden_16_update_17_-_week_17.xlsx\n",
      "Warning: No position column found in madden_19_philadelphia_eagles__madden_nfl_19_.xlsx\n",
      "Warning: No position column found in madden_16_green_bay_packers_(madden_nfl_16).xlsx\n",
      "Warning: No position column found in madden_23_philadelphia_eagles__madden_nfl_23_.xlsx\n",
      "Warning: No position column found in madden_24_los_angeles_chargers__madden_nfl_24_.xlsx\n",
      "Warning: No position column found in madden_20_2020_free_agent_frenzy_roster_3-31-2020.xlsx\n",
      "Warning: No position column found in madden_18_jacksonville_jaguars__madden_nfl_18_.xlsx\n",
      "Warning: No position column found in madden_21_cleveland_browns__madden_nfl_21_.xlsx\n",
      "Warning: No position column found in madden_15_update_20_post-super_bowl.xlsx\n",
      "Warning: No position column found in madden_24_atlanta_falcons__madden_nfl_24_.xlsx\n",
      "Warning: No position column found in madden_18_atlanta_falcons__madden_nfl_18_.xlsx\n",
      "Warning: No position column found in madden_24_philadelphia_eagles__madden_nfl_24_.xlsx\n",
      "Warning: No position column found in madden_17_minnesota_vikings__madden_nfl_17_.xlsx\n",
      "Warning: No position column found in madden_19_new_york_jets__madden_nfl_19_.xlsx\n",
      "Warning: No position column found in madden_16_dallas_cowboys_(madden_nfl_16).xlsx\n"
     ]
    },
    {
     "name": "stderr",
     "output_type": "stream",
     "text": [
      "/Users/ryanbergmac/anaconda3/lib/python3.11/site-packages/openpyxl/worksheet/_read_only.py:85: UserWarning: Unknown extension is not supported and will be removed\n",
      "  for idx, row in parser.parse():\n"
     ]
    },
    {
     "name": "stdout",
     "output_type": "stream",
     "text": [
      "Warning: No position column found in madden_19_madden_nfl_19_-_full_player_ratings_1.xlsx\n",
      "Warning: No position column found in madden_21_afc_pro_bowl__madden_nfl_21_.xlsx\n",
      "Warning: No position column found in madden_24_new_york_jets__madden_nfl_24_.xlsx\n",
      "Warning: No position column found in madden_17_new_york_jets__madden_nfl_17_.xlsx\n",
      "Warning: No position column found in madden_19_madden_legends__madden_nfl_19_.xlsx\n"
     ]
    },
    {
     "name": "stderr",
     "output_type": "stream",
     "text": [
      "/Users/ryanbergmac/anaconda3/lib/python3.11/site-packages/openpyxl/worksheet/_read_only.py:85: UserWarning: Unknown extension is not supported and will be removed\n",
      "  for idx, row in parser.parse():\n",
      "/Users/ryanbergmac/anaconda3/lib/python3.11/site-packages/openpyxl/worksheet/_read_only.py:85: UserWarning: Unknown extension is not supported and will be removed\n",
      "  for idx, row in parser.parse():\n"
     ]
    },
    {
     "name": "stdout",
     "output_type": "stream",
     "text": [
      "Warning: No position column found in madden_20_san_francisco_49ers__madden_nfl_20_.xlsx\n",
      "Warning: No position column found in madden_20_arizona_cardinals__madden_nfl_20_.xlsx\n",
      "Warning: No position column found in madden_21_buffalo_bills__madden_nfl_21_.xlsx\n",
      "Warning: No position column found in madden_17_philadelphia_eagles__madden_nfl_17_.xlsx\n",
      "Warning: No position column found in madden_18_new_york_jets__madden_nfl_18_.xlsx\n",
      "Warning: No position column found in madden_20_new_york_giants__madden_nfl_20_.xlsx\n",
      "Warning: No position column found in madden_24_tennessee_titans__madden_nfl_24_.xlsx\n",
      "Warning: No position column found in madden_21_madden_nfl_21_-_full_rookies.xlsx\n",
      "Warning: No position column found in madden_16_detroit_lions_(madden_nfl_16).xlsx\n",
      "Warning: No position column found in madden_16_atlanta_falcons_(madden_nfl_16).xlsx\n",
      "Warning: No position column found in madden_22_madden_nfl_22_final_roster.xlsx\n",
      "Warning: No position column found in madden_19_denver_broncos__madden_nfl_19_.xlsx\n",
      "Warning: No position column found in madden_23_cleveland_browns__madden_nfl_23_.xlsx\n",
      "Warning: No position column found in madden_18_baltimore_ravens__madden_nfl_18_.xlsx\n"
     ]
    },
    {
     "name": "stderr",
     "output_type": "stream",
     "text": [
      "/Users/ryanbergmac/anaconda3/lib/python3.11/site-packages/openpyxl/worksheet/_read_only.py:85: UserWarning: Unknown extension is not supported and will be removed\n",
      "  for idx, row in parser.parse():\n"
     ]
    },
    {
     "name": "stdout",
     "output_type": "stream",
     "text": [
      "Warning: No position column found in madden_20_afc_pro_bowl__madden_nfl_20_.xlsx\n",
      "Warning: No position column found in madden_23_new_york_jets__madden_nfl_23_.xlsx\n",
      "Warning: No position column found in madden_21_carolina_panthers__madden_nfl_21_.xlsx\n"
     ]
    },
    {
     "name": "stderr",
     "output_type": "stream",
     "text": [
      "/Users/ryanbergmac/anaconda3/lib/python3.11/site-packages/openpyxl/worksheet/_read_only.py:85: UserWarning: Unknown extension is not supported and will be removed\n",
      "  for idx, row in parser.parse():\n",
      "/Users/ryanbergmac/anaconda3/lib/python3.11/site-packages/openpyxl/worksheet/_read_only.py:85: UserWarning: Unknown extension is not supported and will be removed\n",
      "  for idx, row in parser.parse():\n"
     ]
    },
    {
     "name": "stdout",
     "output_type": "stream",
     "text": [
      "Warning: No position column found in madden_16_cincinnati_bengals_(madden_nfl_16).xlsx\n",
      "Warning: No position column found in madden_17_cincinnati_bengals__madden_nfl_17_.xlsx\n",
      "Warning: No position column found in madden_15_pro_bowl_carter.xlsx\n",
      "Warning: No position column found in madden_17_arizona_cardinals__madden_nfl_17_.xlsx\n",
      "Warning: No position column found in madden_17_san_francisco_49ers__madden_nfl_17_.xlsx\n",
      "Warning: No position column found in madden_20_philadelphia_eagles__madden_nfl_20_.xlsx\n",
      "Warning: No position column found in madden_18_green_bay_packers__madden_nfl_18_.xlsx\n",
      "Warning: No position column found in madden_17_atlanta_falcons__madden_nfl_17_.xlsx\n",
      "Warning: No position column found in madden_23_dallas_cowboys__madden_nfl_23_.xlsx\n",
      "Warning: No position column found in madden_17_baltimore_ravens__madden_nfl_17_.xlsx\n",
      "Warning: No position column found in madden_18_dallas_cowboys__madden_nfl_18_.xlsx\n",
      "Warning: No position column found in madden_20_minnesota_vikings__madden_nfl_20_.xlsx\n"
     ]
    },
    {
     "name": "stderr",
     "output_type": "stream",
     "text": [
      "/Users/ryanbergmac/anaconda3/lib/python3.11/site-packages/openpyxl/worksheet/_read_only.py:85: UserWarning: Unknown extension is not supported and will be removed\n",
      "  for idx, row in parser.parse():\n"
     ]
    },
    {
     "name": "stdout",
     "output_type": "stream",
     "text": [
      "Warning: No position column found in madden_24_green_bay_packers__madden_nfl_24_.xlsx\n",
      "Warning: No position column found in madden_15_update_1_launch_day.xlsx\n",
      "Warning: No position column found in madden_20_miami_dolphins__madden_nfl_20_.xlsx\n",
      "Warning: No position column found in madden_19_kansas_city_chiefs__madden_nfl_19_.xlsx\n",
      "Warning: No position column found in madden_20_kansas_city_chiefs__madden_nfl_20_.xlsx\n",
      "Warning: No position column found in madden_16_new_england_patriots_(madden_nfl_16).xlsx\n",
      "Warning: No position column found in madden_24_san_francisco_49ers__madden_nfl_24_.xlsx\n",
      "Warning: No position column found in madden_16_baltimore_ravens_(madden_nfl_16).xlsx\n",
      "Warning: No position column found in madden_20_tennessee_titans__madden_nfl_20_.xlsx\n",
      "Warning: No position column found in madden_19_afc_pro_bowl__madden_nfl_19_.xlsx\n",
      "Warning: No position column found in madden_17_new_england_patriots__madden_nfl_17_.xlsx\n",
      "Warning: No position column found in madden_16_update_12_-_week_11.xlsx\n",
      "Warning: No position column found in madden_24_tampa_bay_buccaneers__madden_nfl_24_.xlsx\n",
      "Warning: No position column found in madden_23_washington_commanders__madden_nfl_23_.xlsx\n",
      "Warning: No position column found in madden_16_rice__pro_bowl_.xlsx\n",
      "Warning: No position column found in madden_20_houston_texans__madden_nfl_20_.xlsx\n",
      "Warning: No position column found in madden_19_indianapolis_colts__madden_nfl_19_.xlsx\n",
      "Warning: No position column found in madden_17_nfc_pro_bowl__madden_nfl_17_.xlsx\n",
      "Warning: No position column found in madden_17_san_diego_chargers__madden_nfl_17_.xlsx\n",
      "Warning: No position column found in madden_16_tampa_bay_buccaneers_(madden_nfl_16).xlsx\n",
      "Warning: No position column found in madden_20_indianapolis_colts__madden_nfl_20_.xlsx\n",
      "Warning: No position column found in madden_19_san_francisco_49ers__madden_nfl_19_.xlsx\n",
      "Warning: No position column found in madden_23_san_francisco_49ers__madden_nfl_23_.xlsx\n",
      "Warning: No position column found in madden_16_san_diego_chargers_(madden_nfl_16).xlsx\n",
      "Warning: No position column found in madden_21_jacksonville_jaguars__madden_nfl_21_.xlsx\n",
      "Warning: No position column found in madden_24_new_england_patriots__madden_nfl_24_.xlsx\n",
      "Warning: No position column found in madden_17_tampa_bay_buccaneers__madden_nfl_17_.xlsx\n",
      "Warning: No position column found in madden_19_pittsburgh_steelers__madden_nfl_19_.xlsx\n",
      "Warning: No position column found in madden_23_pittsburgh_steelers__madden_nfl_23_.xlsx\n",
      "Warning: No position column found in madden_15_update_5_week_5.xlsx\n",
      "Warning: No position column found in madden_16_update_6_-_week_5.xlsx\n"
     ]
    },
    {
     "name": "stderr",
     "output_type": "stream",
     "text": [
      "/Users/ryanbergmac/anaconda3/lib/python3.11/site-packages/openpyxl/worksheet/_read_only.py:85: UserWarning: Unknown extension is not supported and will be removed\n",
      "  for idx, row in parser.parse():\n"
     ]
    },
    {
     "name": "stdout",
     "output_type": "stream",
     "text": [
      "Warning: No position column found in madden_17_detroit_lions__madden_nfl_17_.xlsx\n",
      "Warning: No position column found in madden_23_arizona_cardinals__madden_nfl_23_.xlsx\n",
      "Warning: No position column found in madden_16_update_11_-_week_10.xlsx\n",
      "Warning: No position column found in madden_20_dallas_cowboys__madden_nfl_20_.xlsx\n",
      "Warning: No position column found in madden_18_miami_dolphins__madden_nfl_18_.xlsx\n",
      "Warning: No position column found in madden_24_detroit_lions__madden_nfl_24_.xlsx\n",
      "Warning: No position column found in madden_19_jacksonville_jaguars__madden_nfl_19_.xlsx\n",
      "Warning: No position column found in madden_20_bleacher_report_goat_sim_roster.xlsx\n",
      "Warning: No position column found in madden_18_madden_nfl_18_-_full_player_ratings.xlsx\n",
      "Warning: No position column found in madden_15_update_7_week_7.xlsx\n",
      "Warning: No position column found in madden_23_detroit_lions__madden_nfl_23_.xlsx\n",
      "Warning: No position column found in madden_24_pittsburgh_steelers__madden_nfl_24_.xlsx\n",
      "Warning: No position column found in madden_18_houston_texans__madden_nfl_18_.xlsx\n",
      "Warning: No position column found in madden_16_new_york_jets_(madden_nfl_16).xlsx\n",
      "Warning: No position column found in madden_19_arizona_cardinals__madden_nfl_19_.xlsx\n",
      "Warning: No position column found in madden_19_baltimore_ravens__madden_nfl_19_.xlsx\n",
      "Warning: No position column found in madden_18_detroit_lions__madden_nfl_18_.xlsx\n",
      "Warning: No position column found in madden_16_update_5_-_week_4.xlsx\n"
     ]
    },
    {
     "name": "stderr",
     "output_type": "stream",
     "text": [
      "/Users/ryanbergmac/anaconda3/lib/python3.11/site-packages/openpyxl/worksheet/_read_only.py:85: UserWarning: Unknown extension is not supported and will be removed\n",
      "  for idx, row in parser.parse():\n"
     ]
    },
    {
     "name": "stdout",
     "output_type": "stream",
     "text": [
      "Warning: No position column found in madden_23_houston_texans__madden_nfl_23_.xlsx\n",
      "Warning: No position column found in madden_23_indianapolis_colts__madden_nfl_23_.xlsx\n",
      "Warning: No position column found in madden_17_new_orleans_saints__madden_nfl_17_.xlsx\n",
      "Warning: No position column found in madden_18_seattle_seahawks__madden_nfl_18_.xlsx\n",
      "Warning: No position column found in madden_16_new_orleans_saints_(madden_nfl_16).xlsx\n",
      "Warning: No position column found in madden_18_los_angeles_rams__madden_nfl_18_.xlsx\n",
      "Warning: No position column found in madden_17_pittsburgh_steelers__madden_nfl_17_.xlsx\n",
      "Warning: No position column found in madden_15_update_19_super_bowl.xlsx\n",
      "Warning: No position column found in madden_16_st_louis_rams.xlsx\n"
     ]
    },
    {
     "name": "stderr",
     "output_type": "stream",
     "text": [
      "/Users/ryanbergmac/anaconda3/lib/python3.11/site-packages/openpyxl/worksheet/_read_only.py:85: UserWarning: Unknown extension is not supported and will be removed\n",
      "  for idx, row in parser.parse():\n",
      "/Users/ryanbergmac/anaconda3/lib/python3.11/site-packages/openpyxl/worksheet/_read_only.py:85: UserWarning: Unknown extension is not supported and will be removed\n",
      "  for idx, row in parser.parse():\n"
     ]
    },
    {
     "name": "stdout",
     "output_type": "stream",
     "text": [
      "Warning: No position column found in madden_20_washington_redskins__madden_nfl_20_.xlsx\n",
      "Warning: No position column found in madden_16_carolina_panthers_(madden_nfl_16).xlsx\n",
      "Warning: No position column found in madden_23_miami_dolphins__madden_nfl_23_.xlsx\n",
      "Warning: No position column found in madden_20_cleveland_browns__madden_nfl_20_.xlsx\n",
      "Warning: No position column found in madden_23_kansas_city_chiefs__madden_nfl_23_.xlsx\n",
      "Warning: No position column found in madden_15_update_3_week_3.xlsx\n",
      "Warning: No position column found in madden_19_detroit_lions__madden_nfl_19_.xlsx\n",
      "Warning: No position column found in madden_23_las_vegas_raiders__madden_nfl_23_.xlsx\n"
     ]
    },
    {
     "name": "stderr",
     "output_type": "stream",
     "text": [
      "/Users/ryanbergmac/anaconda3/lib/python3.11/site-packages/openpyxl/worksheet/_read_only.py:85: UserWarning: Unknown extension is not supported and will be removed\n",
      "  for idx, row in parser.parse():\n"
     ]
    },
    {
     "name": "stdout",
     "output_type": "stream",
     "text": [
      "Warning: No position column found in madden_16_update_7_-_week_6.xlsx\n",
      "Warning: No position column found in madden_23_los_angeles_chargers__madden_nfl_23_.xlsx\n",
      "Warning: No position column found in madden_21_madden_nfl_21_-_full_player_ratings.xlsx\n",
      "Warning: No position column found in madden_17_los_angeles_rams__madden_nfl_17_.xlsx\n",
      "Warning: No position column found in madden_17_seattle_seahawks__madden_nfl_17_.xlsx\n",
      "Warning: No position column found in madden_23_minnesota_vikings__madden_nfl_23_.xlsx\n",
      "Warning: No position column found in madden_24_denver_broncos__madden_nfl_24_.xlsx\n",
      "Warning: No position column found in madden_24_carolina_panthers__madden_nfl_24_.xlsx\n",
      "Warning: No position column found in madden_21_new_york_giants__madden_nfl_21_.xlsx\n",
      "Warning: No position column found in madden_23_new_england_patriots__madden_nfl_23_.xlsx\n",
      "Warning: No position column found in madden_21_tennessee_titans__madden_nfl_21_.xlsx\n",
      "Warning: No position column found in madden_19_minnesota_vikings__madden_nfl_19_.xlsx\n",
      "Warning: No position column found in madden_16_update_21_-_final_update.xlsx\n",
      "Warning: No position column found in madden_21_denver_broncos__madden_nfl_21_.xlsx\n",
      "Warning: No position column found in madden_17_denver_broncos__madden_nfl_17_.xlsx\n",
      "Warning: No position column found in madden_17_washington_redskins__madden_nfl_17_.xlsx\n",
      "Warning: No position column found in madden_23_tampa_bay_buccaneers__madden_nfl_23_.xlsx\n",
      "Warning: No position column found in madden_20_pittsburgh_steelers__madden_nfl_20_.xlsx\n",
      "Warning: No position column found in madden_21_chicago_bears__madden_nfl_21_.xlsx\n"
     ]
    },
    {
     "name": "stderr",
     "output_type": "stream",
     "text": [
      "/Users/ryanbergmac/anaconda3/lib/python3.11/site-packages/openpyxl/worksheet/_read_only.py:85: UserWarning: Unknown extension is not supported and will be removed\n",
      "  for idx, row in parser.parse():\n"
     ]
    },
    {
     "name": "stdout",
     "output_type": "stream",
     "text": [
      "Warning: No position column found in madden_21_indianapolis_colts__madden_nfl_21_.xlsx\n",
      "Warning: No position column found in madden_23_tennessee_titans__madden_nfl_23_.xlsx\n",
      "Warning: No position column found in madden_18_indianapolis_colts__madden_nfl_18_.xlsx\n",
      "Warning: No position column found in madden_16_madden_nfl_16_-_full_player_ratings.xlsx\n",
      "Warning: No position column found in madden_24_kansas_city_chiefs__madden_nfl_24_.xlsx\n",
      "Warning: No position column found in madden_20_jacksonville_jaguars__madden_nfl_20_.xlsx\n",
      "Warning: No position column found in madden_16_houston_texans_(madden_nfl_16).xlsx\n",
      "Warning: No position column found in madden_21_green_bay_packers__madden_nfl_21_.xlsx\n",
      "Warning: No position column found in madden_20_oakland_raiders__madden_nfl_20_.xlsx\n",
      "Warning: No position column found in madden_15_update_9_week_9.xlsx\n",
      "Warning: No position column found in madden_24_cleveland_browns__madden_nfl_24_.xlsx\n",
      "Warning: No position column found in madden_19_atlanta_falcons__madden_nfl_19_.xlsx\n",
      "Warning: No position column found in madden_19_washington_redskins__madden_nfl_19_.xlsx\n",
      "Warning: No position column found in madden_16_seattle_seahawks_(madden_nfl_16).xlsx\n",
      "Warning: No position column found in madden_24_indianapolis_colts__madden_nfl_24_.xlsx\n",
      "Warning: No position column found in madden_18_carolina_panthers__madden_nfl_18_.xlsx\n",
      "Warning: No position column found in madden_21_kansas_city_chiefs__madden_nfl_21_.xlsx\n",
      "Warning: No position column found in madden_20_chicago_bears__madden_nfl_20_.xlsx\n",
      "Warning: No position column found in madden_18_kansas_city_chiefs__madden_nfl_18_.xlsx\n",
      "Warning: No position column found in madden_16_miami_dolphins_(madden_nfl_16).xlsx\n",
      "Warning: No position column found in madden_23_atlanta_falcons__madden_nfl_23_.xlsx\n",
      "\n",
      "Position Data Summary:\n",
      "Madden NFL 15: 32 teams, 2219 total positions\n",
      "\n",
      "Sample of position data:\n",
      "  Year                 Team Position  Count\n",
      "0   15  washington_redskins        C      3\n",
      "1   15  washington_redskins       CB      8\n",
      "2   15  washington_redskins       DT      4\n",
      "3   15  washington_redskins       FB      1\n",
      "4   15  washington_redskins       FS      4\n",
      "\n",
      "Average number of players per position across all teams:\n",
      "Position\n",
      "WR      8.18750\n",
      "CB      7.46875\n",
      "TE      4.84375\n",
      "HB      4.62500\n",
      "MLB     4.31250\n",
      "DT      4.28125\n",
      "QB      3.59375\n",
      "FS      2.96875\n",
      "LOLB    2.84375\n",
      "LE      2.78125\n",
      "Name: Count, dtype: float64\n"
     ]
    }
   ],
   "source": [
    "import pandas\n",
    "import os\n",
    "import glob\n",
    "import pandas as pd\n",
    "import matplotlib.pyplot as plt\n",
    "from collections import defaultdict\n",
    "import numpy as np\n",
    "\n",
    "def analyze_madden_positions():\n",
    "    # Path to the madden_ratings directory\n",
    "    ratings_dir = \"madden_ratings\"\n",
    "    \n",
    "    # Check if directory exists\n",
    "    if not os.path.exists(ratings_dir):\n",
    "        print(f\"Error: {ratings_dir} directory not found\")\n",
    "        return None\n",
    "    \n",
    "    # Find all Excel files in the directory\n",
    "    excel_files = glob.glob(os.path.join(ratings_dir, \"*.xls*\"))\n",
    "    \n",
    "    if not excel_files:\n",
    "        print(f\"No Excel files found in {ratings_dir}\")\n",
    "        return None\n",
    "    \n",
    "    print(f\"Found {len(excel_files)} Excel files to analyze\")\n",
    "    \n",
    "    # Dictionary to store position counts by team and year\n",
    "    position_counts = defaultdict(lambda: defaultdict(lambda: defaultdict(int)))\n",
    "    \n",
    "    # Process each file\n",
    "    for file_path in excel_files:\n",
    "        try:\n",
    "            # Extract year and team from filename\n",
    "            filename = os.path.basename(file_path)\n",
    "            parts = filename.replace('.xlsx', '').replace('.xls', '').split('_')\n",
    "            \n",
    "            # Try to extract year and team information\n",
    "            if len(parts) >= 3 and parts[0] == 'madden':\n",
    "                year = parts[1]\n",
    "                team = '_'.join(parts[2:])\n",
    "                \n",
    "                # Read the Excel file\n",
    "                df = pd.read_excel(file_path, engine='openpyxl' if file_path.endswith('.xlsx') else 'xlrd')\n",
    "                \n",
    "                # Look for position column (different files might have different column names)\n",
    "                pos_column = None\n",
    "                for col in df.columns:\n",
    "                    if isinstance(col, str) and col == 'POSITION':\n",
    "                        pos_column = col\n",
    "                        break\n",
    "                \n",
    "                if pos_column:\n",
    "                    # Count positions\n",
    "                    for pos in df[pos_column]:\n",
    "                        if isinstance(pos, str):  # Ensure position is a string\n",
    "                            position_counts[year][team][pos.upper()] += 1\n",
    "                else:\n",
    "                    print(f\"Warning: No position column found in {filename}\")\n",
    "            \n",
    "        except Exception as e:\n",
    "            print(f\"Error processing {file_path}: {str(e)}\")\n",
    "    \n",
    "    return position_counts\n",
    "\n",
    "# Run the analysis\n",
    "position_data = analyze_madden_positions()\n",
    "\n",
    "if position_data:\n",
    "    # Print summary of the data\n",
    "    print(\"\\nPosition Data Summary:\")\n",
    "    for year in sorted(position_data.keys()):\n",
    "        team_count = len(position_data[year])\n",
    "        total_positions = sum(sum(positions.values()) for positions in position_data[year].values())\n",
    "        print(f\"Madden NFL {year}: {team_count} teams, {total_positions} total positions\")\n",
    "    \n",
    "    # Create a DataFrame for easier analysis\n",
    "    all_years = []\n",
    "    all_teams = []\n",
    "    all_positions = []\n",
    "    all_counts = []\n",
    "    \n",
    "    for year in position_data:\n",
    "        for team in position_data[year]:\n",
    "            for position, count in position_data[year][team].items():\n",
    "                all_years.append(year)\n",
    "                all_teams.append(team)\n",
    "                all_positions.append(position)\n",
    "                all_counts.append(count)\n",
    "    \n",
    "    position_df = pd.DataFrame({\n",
    "        'Year': all_years,\n",
    "        'Team': all_teams,\n",
    "        'Position': all_positions,\n",
    "        'Count': all_counts\n",
    "    })\n",
    "    \n",
    "    # Display the first few rows\n",
    "    print(\"\\nSample of position data:\")\n",
    "    print(position_df.head())\n",
    "    \n",
    "    # Calculate average number of players per position across all teams\n",
    "    avg_by_position = position_df.groupby('Position')['Count'].mean().sort_values(ascending=False)\n",
    "    print(\"\\nAverage number of players per position across all teams:\")\n",
    "    print(avg_by_position.head(10))\n",
    "else:\n",
    "    print(\"No data was collected. Check the madden_ratings directory.\")\n"
   ]
  },
  {
   "cell_type": "code",
   "execution_count": null,
   "metadata": {},
   "outputs": [],
   "source": []
  },
  {
   "cell_type": "code",
   "execution_count": null,
   "metadata": {},
   "outputs": [],
   "source": []
  }
 ],
 "metadata": {
  "kernelspec": {
   "display_name": "base",
   "language": "python",
   "name": "python3"
  },
  "language_info": {
   "codemirror_mode": {
    "name": "ipython",
    "version": 3
   },
   "file_extension": ".py",
   "mimetype": "text/x-python",
   "name": "python",
   "nbconvert_exporter": "python",
   "pygments_lexer": "ipython3",
   "version": "3.11.11"
  }
 },
 "nbformat": 4,
 "nbformat_minor": 2
}
